{
 "cells": [
  {
   "cell_type": "markdown",
   "metadata": {},
   "source": [
    "# Connect to Dremio with R (use this as a template)"
   ],
   "execution_count": null,
   "outputs": []
  },
  {
   "cell_type": "code",
   "execution_count": null,
   "metadata": {},
   "outputs": [],
   "source": [
    "################################################\n",
    "#              Connect to Dremio               #\n",
    "################################################\n",
    "# Don't edit this\n",
    "if (!require(odbc)) { install.packages(\"odbc\"); require(\"odbc\") }\n",
    "if (!require(getPass)) { install.packages(\"getPass\"); require(\"getPass\") }\n",
    "require(DBI)\n",
    "\n",
    "dremio_host <- 'dremio-client.dremio.svc.cluster.local'\n",
    "dremio_port <- 31010\n",
    "dremio_driver <- Sys.getenv('DREMIO_DRIVER')\n",
    "\n",
    "cnxn <- DBI::dbConnect(\n",
    "    odbc::odbc(), \n",
    "    driver = \"Dremio ODBC Driver 64-bit\",\n",
    "    uid = getPass::getPass(prompt = \"Dremio Username: \"), \n",
    "    pwd = getPass::getPass(prompt = \"Dremio Password: \"), \n",
    "    host = dremio_host, \n",
    "    port = dremio_port,\n",
    "    AuthenticationType = \"Basic Authentication\", \n",
    "    ConnectionType = \"Direct\"\n",
    ")\n",
    "\n",
    "print(\"Connected.\")"
   ]
  },
  {
   "cell_type": "markdown",
   "metadata": {},
   "source": [
    "## An overview of what's available"
   ],
   "execution_count": null,
   "outputs": []
  },
  {
   "cell_type": "code",
   "execution_count": null,
   "metadata": {},
   "outputs": [],
   "source": [
    "print(\"Catalogs:\")\n",
    "sql = \"SELECT * FROM INFORMATION_SCHEMA.CATALOGS LIMIT 5\"\n",
    "request <- dbSendQuery(cnxn, sql)\n",
    "df <- dbFetch(request, n = 100)\n",
    "df"
   ]
  },
  {
   "cell_type": "code",
   "execution_count": null,
   "metadata": {},
   "outputs": [],
   "source": [
    "print(\"Tables\")\n",
    "dbListTables(con)"
   ]
  },
  {
   "cell_type": "code",
   "execution_count": null,
   "metadata": {},
   "outputs": [],
   "source": [
    "print(\"Columns:\")\n",
    "sql = \"SELECT * FROM INFORMATION_SCHEMA.COLUMNS LIMIT 5\"\n",
    "request <- dbSendQuery(cnxn, sql)\n",
    "df <- dbFetch(request, n = 100)\n",
    "df"
   ]
  },
  {
   "cell_type": "code",
   "execution_count": null,
   "metadata": {},
   "outputs": [],
   "source": [
    "dbListFields(cnxn, \"dremiosharedstorage.shared.\\\"12100121.csv\\\"\")"
   ]
  },
  {
   "cell_type": "code",
   "execution_count": null,
   "metadata": {},
   "outputs": [],
   "source": [
    "# If you want to close the connection\n",
    "# close(channel)"
   ]
  },
  {
   "cell_type": "code",
   "execution_count": null,
   "metadata": {},
   "outputs": [],
   "source": [
    "# For more commands, see the SQL Reference\n",
    "# https://docs.dremio.com/sql-reference/\n",
    "\n",
    "################################################\n",
    "#           End of Connect to Dremio           #\n",
    "################################################"
   ]
  },
  {
   "cell_type": "markdown",
   "metadata": {},
   "source": [
    "# Get started with your analysis!"
   ],
   "execution_count": null,
   "outputs": []
  },
  {
   "cell_type": "code",
   "execution_count": null,
   "metadata": {},
   "outputs": [],
   "source": [
    "sql = \"SELECT * FROM dremiosharedstorage.shared.\\\"12100121.csv\\\"\"\n",
    "request <- dbSendQuery(cnxn, sql)\n",
    "df <- dbFetch(request)\n",
    "df"
   ]
  },
  {
   "cell_type": "code",
   "execution_count": null,
   "metadata": {},
   "outputs": [],
   "source": [
    "# The upstream data that I'm using didn't label the columns, so I have to.\n",
    "colnames(df) <- df[1,]\n",
    "df <- df[-1, ] "
   ]
  },
  {
   "cell_type": "code",
   "execution_count": null,
   "metadata": {},
   "outputs": [],
   "source": [
    "names(df)"
   ]
  },
  {
   "cell_type": "code",
   "execution_count": null,
   "metadata": {},
   "outputs": [],
   "source": [
    "library(dplyr)"
   ]
  },
  {
   "cell_type": "code",
   "execution_count": null,
   "metadata": {},
   "outputs": [],
   "source": [
    "values = df %>% select(VALUE)\n",
    "# string to number\n",
    "values <- as.data.frame(lapply(values, as.numeric))"
   ]
  },
  {
   "cell_type": "code",
   "execution_count": null,
   "metadata": {},
   "outputs": [],
   "source": [
    "mean(values$VALUE)"
   ]
  },
  {
   "cell_type": "code",
   "execution_count": null,
   "metadata": {},
   "outputs": [],
   "source": [
    "sd(values$VALUE)"
   ]
  },
  {
   "cell_type": "code",
   "execution_count": null,
   "metadata": {},
   "outputs": [],
   "source": [
    "v = values$VALUE\n",
    "#hist(c(values$VALUE), \"Values\", breaks = 20)\n",
    "hist(v, main=\"legend\", breaks = 100)"
   ]
  },
  {
   "cell_type": "code",
   "execution_count": null,
   "metadata": {},
   "outputs": [],
   "source": [
    "# Exclude outliers\n",
    "\n",
    "hist(v[v < 4000], main=\"legend\", xlim=c(-50, 4000), breaks = 60)"
   ]
  }
 ],
 "metadata": {
  "kernelspec": {
   "display_name": "R",
   "language": "R",
   "name": "ir"
  },
  "language_info": {
   "codemirror_mode": "r",
   "file_extension": ".r",
   "mimetype": "text/x-r-source",
   "name": "R",
   "pygments_lexer": "r",
   "version": "3.6.2"
  }
 },
 "nbformat": 4,
 "nbformat_minor": 4
}