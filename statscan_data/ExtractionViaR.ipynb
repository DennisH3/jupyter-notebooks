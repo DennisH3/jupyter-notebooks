{
 "cells": [
  {
   "cell_type": "markdown",
   "metadata": {},
   "source": [
    "# StatsCan Data Access with R\n",
    "\n",
    "Using the [cansim](https://mountainmath.github.io/cansim/index.html) package.\n"
   ]
  },
  {
   "cell_type": "code",
   "execution_count": 1,
   "metadata": {},
   "outputs": [
    {
     "name": "stderr",
     "output_type": "stream",
     "text": [
      "Updating HTML index of packages in '.Library'\n",
      "\n",
      "Making 'packages.html' ...\n",
      " done\n",
      "\n"
     ]
    }
   ],
   "source": [
    "install.packages(\"cansim\")"
   ]
  },
  {
   "cell_type": "code",
   "execution_count": 2,
   "metadata": {},
   "outputs": [],
   "source": [
    "library(\"cansim\")"
   ]
  },
  {
   "cell_type": "markdown",
   "metadata": {},
   "source": [
    "> Product Identification number (PID) is a unique product identifier for all Statistics Canada products, including large multidimensional tables. The first two digits refer to a subject, the next two digits refer to product type, the last four digits refer to the product itself."
   ]
  },
  {
   "cell_type": "markdown",
   "metadata": {},
   "source": [
    "Specify the product ID (PID) to retrieve the table displayed at https://www150.statcan.gc.ca/t1/tbl1/en/tv.action?pid=2710002201"
   ]
  },
  {
   "cell_type": "code",
   "execution_count": 5,
   "metadata": {},
   "outputs": [
    {
     "name": "stderr",
     "output_type": "stream",
     "text": [
      "Reading CANSIM NDM product 27-10-0022 from cache.\n",
      "\n"
     ]
    }
   ],
   "source": [
    "table <- get_cansim(\"271-000-22\")"
   ]
  },
  {
   "cell_type": "code",
   "execution_count": 7,
   "metadata": {},
   "outputs": [
    {
     "data": {
      "text/html": [
       "<table>\n",
       "<caption>A tibble: 6 × 24</caption>\n",
       "<thead>\n",
       "\t<tr><th scope=col>REF_DATE</th><th scope=col>GEO</th><th scope=col>DGUID</th><th scope=col>Performing sector</th><th scope=col>Occupational category</th><th scope=col>Type of science</th><th scope=col>UOM</th><th scope=col>UOM_ID</th><th scope=col>SCALAR_FACTOR</th><th scope=col>SCALAR_ID</th><th scope=col>⋯</th><th scope=col>SYMBOL</th><th scope=col>TERMINATED</th><th scope=col>DECIMALS</th><th scope=col>GeoUID</th><th scope=col>Classification Code for Performing sector</th><th scope=col>Hierarchy for Performing sector</th><th scope=col>Classification Code for Occupational category</th><th scope=col>Hierarchy for Occupational category</th><th scope=col>Classification Code for Type of science</th><th scope=col>Hierarchy for Type of science</th></tr>\n",
       "\t<tr><th scope=col>&lt;chr&gt;</th><th scope=col>&lt;chr&gt;</th><th scope=col>&lt;chr&gt;</th><th scope=col>&lt;chr&gt;</th><th scope=col>&lt;chr&gt;</th><th scope=col>&lt;chr&gt;</th><th scope=col>&lt;chr&gt;</th><th scope=col>&lt;chr&gt;</th><th scope=col>&lt;chr&gt;</th><th scope=col>&lt;chr&gt;</th><th scope=col>⋯</th><th scope=col>&lt;chr&gt;</th><th scope=col>&lt;chr&gt;</th><th scope=col>&lt;chr&gt;</th><th scope=col>&lt;chr&gt;</th><th scope=col>&lt;chr&gt;</th><th scope=col>&lt;chr&gt;</th><th scope=col>&lt;chr&gt;</th><th scope=col>&lt;chr&gt;</th><th scope=col>&lt;chr&gt;</th><th scope=col>&lt;chr&gt;</th></tr>\n",
       "</thead>\n",
       "<tbody>\n",
       "\t<tr><td>2017</td><td>Canada</td><td>2016A000011124</td><td>Private non-profit</td><td>Support staff               </td><td>Total sciences                  </td><td>Number</td><td>223</td><td>units</td><td>0</td><td>⋯</td><td>NA</td><td>NA</td><td>0</td><td>11124</td><td>NA</td><td>1.6</td><td>NA</td><td>1.4</td><td>NA</td><td>1  </td></tr>\n",
       "\t<tr><td>2017</td><td>Canada</td><td>2016A000011124</td><td>Private non-profit</td><td>Support staff               </td><td>Natural sciences and engineering</td><td>Number</td><td>223</td><td>units</td><td>0</td><td>⋯</td><td>NA</td><td>t </td><td>0</td><td>11124</td><td>NA</td><td>1.6</td><td>NA</td><td>1.4</td><td>NA</td><td>1.2</td></tr>\n",
       "\t<tr><td>2017</td><td>Canada</td><td>2016A000011124</td><td>Private non-profit</td><td>Support staff               </td><td>Social sciences and humanities  </td><td>Number</td><td>223</td><td>units</td><td>0</td><td>⋯</td><td>NA</td><td>t </td><td>0</td><td>11124</td><td>NA</td><td>1.6</td><td>NA</td><td>1.4</td><td>NA</td><td>1.3</td></tr>\n",
       "\t<tr><td>2017</td><td>Canada</td><td>2016A000011124</td><td>Private non-profit</td><td>On-site research consultants</td><td>Total sciences                  </td><td>Number</td><td>223</td><td>units</td><td>0</td><td>⋯</td><td>NA</td><td>NA</td><td>0</td><td>11124</td><td>NA</td><td>1.6</td><td>NA</td><td>1.5</td><td>NA</td><td>1  </td></tr>\n",
       "\t<tr><td>2017</td><td>Canada</td><td>2016A000011124</td><td>Private non-profit</td><td>On-site research consultants</td><td>Natural sciences and engineering</td><td>Number</td><td>223</td><td>units</td><td>0</td><td>⋯</td><td>NA</td><td>t </td><td>0</td><td>11124</td><td>NA</td><td>1.6</td><td>NA</td><td>1.5</td><td>NA</td><td>1.2</td></tr>\n",
       "\t<tr><td>2017</td><td>Canada</td><td>2016A000011124</td><td>Private non-profit</td><td>On-site research consultants</td><td>Social sciences and humanities  </td><td>Number</td><td>223</td><td>units</td><td>0</td><td>⋯</td><td>NA</td><td>t </td><td>0</td><td>11124</td><td>NA</td><td>1.6</td><td>NA</td><td>1.5</td><td>NA</td><td>1.3</td></tr>\n",
       "</tbody>\n",
       "</table>\n"
      ],
      "text/latex": [
       "A tibble: 6 × 24\n",
       "\\begin{tabular}{lllllllllllllllllllll}\n",
       " REF\\_DATE & GEO & DGUID & Performing sector & Occupational category & Type of science & UOM & UOM\\_ID & SCALAR\\_FACTOR & SCALAR\\_ID & ⋯ & SYMBOL & TERMINATED & DECIMALS & GeoUID & Classification Code for Performing sector & Hierarchy for Performing sector & Classification Code for Occupational category & Hierarchy for Occupational category & Classification Code for Type of science & Hierarchy for Type of science\\\\\n",
       " <chr> & <chr> & <chr> & <chr> & <chr> & <chr> & <chr> & <chr> & <chr> & <chr> & ⋯ & <chr> & <chr> & <chr> & <chr> & <chr> & <chr> & <chr> & <chr> & <chr> & <chr>\\\\\n",
       "\\hline\n",
       "\t 2017 & Canada & 2016A000011124 & Private non-profit & Support staff                & Total sciences                   & Number & 223 & units & 0 & ⋯ & NA & NA & 0 & 11124 & NA & 1.6 & NA & 1.4 & NA & 1  \\\\\n",
       "\t 2017 & Canada & 2016A000011124 & Private non-profit & Support staff                & Natural sciences and engineering & Number & 223 & units & 0 & ⋯ & NA & t  & 0 & 11124 & NA & 1.6 & NA & 1.4 & NA & 1.2\\\\\n",
       "\t 2017 & Canada & 2016A000011124 & Private non-profit & Support staff                & Social sciences and humanities   & Number & 223 & units & 0 & ⋯ & NA & t  & 0 & 11124 & NA & 1.6 & NA & 1.4 & NA & 1.3\\\\\n",
       "\t 2017 & Canada & 2016A000011124 & Private non-profit & On-site research consultants & Total sciences                   & Number & 223 & units & 0 & ⋯ & NA & NA & 0 & 11124 & NA & 1.6 & NA & 1.5 & NA & 1  \\\\\n",
       "\t 2017 & Canada & 2016A000011124 & Private non-profit & On-site research consultants & Natural sciences and engineering & Number & 223 & units & 0 & ⋯ & NA & t  & 0 & 11124 & NA & 1.6 & NA & 1.5 & NA & 1.2\\\\\n",
       "\t 2017 & Canada & 2016A000011124 & Private non-profit & On-site research consultants & Social sciences and humanities   & Number & 223 & units & 0 & ⋯ & NA & t  & 0 & 11124 & NA & 1.6 & NA & 1.5 & NA & 1.3\\\\\n",
       "\\end{tabular}\n"
      ],
      "text/markdown": [
       "\n",
       "A tibble: 6 × 24\n",
       "\n",
       "| REF_DATE &lt;chr&gt; | GEO &lt;chr&gt; | DGUID &lt;chr&gt; | Performing sector &lt;chr&gt; | Occupational category &lt;chr&gt; | Type of science &lt;chr&gt; | UOM &lt;chr&gt; | UOM_ID &lt;chr&gt; | SCALAR_FACTOR &lt;chr&gt; | SCALAR_ID &lt;chr&gt; | ⋯ ⋯ | SYMBOL &lt;chr&gt; | TERMINATED &lt;chr&gt; | DECIMALS &lt;chr&gt; | GeoUID &lt;chr&gt; | Classification Code for Performing sector &lt;chr&gt; | Hierarchy for Performing sector &lt;chr&gt; | Classification Code for Occupational category &lt;chr&gt; | Hierarchy for Occupational category &lt;chr&gt; | Classification Code for Type of science &lt;chr&gt; | Hierarchy for Type of science &lt;chr&gt; |\n",
       "|---|---|---|---|---|---|---|---|---|---|---|---|---|---|---|---|---|---|---|---|---|\n",
       "| 2017 | Canada | 2016A000011124 | Private non-profit | Support staff                | Total sciences                   | Number | 223 | units | 0 | ⋯ | NA | NA | 0 | 11124 | NA | 1.6 | NA | 1.4 | NA | 1   |\n",
       "| 2017 | Canada | 2016A000011124 | Private non-profit | Support staff                | Natural sciences and engineering | Number | 223 | units | 0 | ⋯ | NA | t  | 0 | 11124 | NA | 1.6 | NA | 1.4 | NA | 1.2 |\n",
       "| 2017 | Canada | 2016A000011124 | Private non-profit | Support staff                | Social sciences and humanities   | Number | 223 | units | 0 | ⋯ | NA | t  | 0 | 11124 | NA | 1.6 | NA | 1.4 | NA | 1.3 |\n",
       "| 2017 | Canada | 2016A000011124 | Private non-profit | On-site research consultants | Total sciences                   | Number | 223 | units | 0 | ⋯ | NA | NA | 0 | 11124 | NA | 1.6 | NA | 1.5 | NA | 1   |\n",
       "| 2017 | Canada | 2016A000011124 | Private non-profit | On-site research consultants | Natural sciences and engineering | Number | 223 | units | 0 | ⋯ | NA | t  | 0 | 11124 | NA | 1.6 | NA | 1.5 | NA | 1.2 |\n",
       "| 2017 | Canada | 2016A000011124 | Private non-profit | On-site research consultants | Social sciences and humanities   | Number | 223 | units | 0 | ⋯ | NA | t  | 0 | 11124 | NA | 1.6 | NA | 1.5 | NA | 1.3 |\n",
       "\n"
      ],
      "text/plain": [
       "  REF_DATE GEO    DGUID          Performing sector \n",
       "1 2017     Canada 2016A000011124 Private non-profit\n",
       "2 2017     Canada 2016A000011124 Private non-profit\n",
       "3 2017     Canada 2016A000011124 Private non-profit\n",
       "4 2017     Canada 2016A000011124 Private non-profit\n",
       "5 2017     Canada 2016A000011124 Private non-profit\n",
       "6 2017     Canada 2016A000011124 Private non-profit\n",
       "  Occupational category        Type of science                  UOM    UOM_ID\n",
       "1 Support staff                Total sciences                   Number 223   \n",
       "2 Support staff                Natural sciences and engineering Number 223   \n",
       "3 Support staff                Social sciences and humanities   Number 223   \n",
       "4 On-site research consultants Total sciences                   Number 223   \n",
       "5 On-site research consultants Natural sciences and engineering Number 223   \n",
       "6 On-site research consultants Social sciences and humanities   Number 223   \n",
       "  SCALAR_FACTOR SCALAR_ID ⋯ SYMBOL TERMINATED DECIMALS GeoUID\n",
       "1 units         0         ⋯ NA     NA         0        11124 \n",
       "2 units         0         ⋯ NA     t          0        11124 \n",
       "3 units         0         ⋯ NA     t          0        11124 \n",
       "4 units         0         ⋯ NA     NA         0        11124 \n",
       "5 units         0         ⋯ NA     t          0        11124 \n",
       "6 units         0         ⋯ NA     t          0        11124 \n",
       "  Classification Code for Performing sector Hierarchy for Performing sector\n",
       "1 NA                                        1.6                            \n",
       "2 NA                                        1.6                            \n",
       "3 NA                                        1.6                            \n",
       "4 NA                                        1.6                            \n",
       "5 NA                                        1.6                            \n",
       "6 NA                                        1.6                            \n",
       "  Classification Code for Occupational category\n",
       "1 NA                                           \n",
       "2 NA                                           \n",
       "3 NA                                           \n",
       "4 NA                                           \n",
       "5 NA                                           \n",
       "6 NA                                           \n",
       "  Hierarchy for Occupational category Classification Code for Type of science\n",
       "1 1.4                                 NA                                     \n",
       "2 1.4                                 NA                                     \n",
       "3 1.4                                 NA                                     \n",
       "4 1.5                                 NA                                     \n",
       "5 1.5                                 NA                                     \n",
       "6 1.5                                 NA                                     \n",
       "  Hierarchy for Type of science\n",
       "1 1                            \n",
       "2 1.2                          \n",
       "3 1.3                          \n",
       "4 1                            \n",
       "5 1.2                          \n",
       "6 1.3                          "
      ]
     },
     "metadata": {},
     "output_type": "display_data"
    }
   ],
   "source": [
    "tail(table)"
   ]
  },
  {
   "cell_type": "markdown",
   "metadata": {},
   "source": [
    "Exploring a time series as a specific `VECTOR` is referred to as information along the time axis."
   ]
  },
  {
   "cell_type": "code",
   "execution_count": 8,
   "metadata": {},
   "outputs": [
    {
     "name": "stderr",
     "output_type": "stream",
     "text": [
      "Warning message:\n",
      "“`as.tibble()` is deprecated as of tibble 2.0.0.\n",
      "Please use `as_tibble()` instead.\n",
      "The signature and semantics have changed, see `?as_tibble`.\n",
      "\u001b[90mThis warning is displayed once every 8 hours.\u001b[39m\n",
      "\u001b[90mCall `lifecycle::last_warnings()` to see where this warning was generated.\u001b[39m”\n"
     ]
    },
    {
     "data": {
      "text/html": [
       "<table>\n",
       "<caption>A tibble: 5 × 9</caption>\n",
       "<thead>\n",
       "\t<tr><th scope=col>DECIMALS</th><th scope=col>VALUE</th><th scope=col>REF_DATE</th><th scope=col>releaseTime</th><th scope=col>SYMBOL</th><th scope=col>frequencyCode</th><th scope=col>SCALAR_ID</th><th scope=col>COORDINATE</th><th scope=col>VECTOR</th></tr>\n",
       "\t<tr><th scope=col>&lt;int&gt;</th><th scope=col>&lt;dbl&gt;</th><th scope=col>&lt;chr&gt;</th><th scope=col>&lt;chr&gt;</th><th scope=col>&lt;int&gt;</th><th scope=col>&lt;int&gt;</th><th scope=col>&lt;int&gt;</th><th scope=col>&lt;chr&gt;</th><th scope=col>&lt;chr&gt;</th></tr>\n",
       "</thead>\n",
       "<tbody>\n",
       "\t<tr><td>0</td><td>232910</td><td>2013-01-01</td><td>2018-07-30T08:30</td><td>0</td><td>12</td><td>0</td><td>1.1.1.1.0.0.0.0.0.0</td><td>v54329358</td></tr>\n",
       "\t<tr><td>0</td><td>246100</td><td>2014-01-01</td><td>2019-02-25T08:30</td><td>0</td><td>12</td><td>0</td><td>1.1.1.1.0.0.0.0.0.0</td><td>v54329358</td></tr>\n",
       "\t<tr><td>0</td><td>251960</td><td>2015-01-01</td><td>2019-02-25T08:30</td><td>0</td><td>12</td><td>0</td><td>1.1.1.1.0.0.0.0.0.0</td><td>v54329358</td></tr>\n",
       "\t<tr><td>0</td><td>235450</td><td>2016-01-01</td><td>2020-03-03T08:30</td><td>0</td><td>12</td><td>0</td><td>1.1.1.1.0.0.0.0.0.0</td><td>v54329358</td></tr>\n",
       "\t<tr><td>0</td><td>235350</td><td>2017-01-01</td><td>2020-03-03T08:30</td><td>0</td><td>12</td><td>0</td><td>1.1.1.1.0.0.0.0.0.0</td><td>v54329358</td></tr>\n",
       "</tbody>\n",
       "</table>\n"
      ],
      "text/latex": [
       "A tibble: 5 × 9\n",
       "\\begin{tabular}{lllllllll}\n",
       " DECIMALS & VALUE & REF\\_DATE & releaseTime & SYMBOL & frequencyCode & SCALAR\\_ID & COORDINATE & VECTOR\\\\\n",
       " <int> & <dbl> & <chr> & <chr> & <int> & <int> & <int> & <chr> & <chr>\\\\\n",
       "\\hline\n",
       "\t 0 & 232910 & 2013-01-01 & 2018-07-30T08:30 & 0 & 12 & 0 & 1.1.1.1.0.0.0.0.0.0 & v54329358\\\\\n",
       "\t 0 & 246100 & 2014-01-01 & 2019-02-25T08:30 & 0 & 12 & 0 & 1.1.1.1.0.0.0.0.0.0 & v54329358\\\\\n",
       "\t 0 & 251960 & 2015-01-01 & 2019-02-25T08:30 & 0 & 12 & 0 & 1.1.1.1.0.0.0.0.0.0 & v54329358\\\\\n",
       "\t 0 & 235450 & 2016-01-01 & 2020-03-03T08:30 & 0 & 12 & 0 & 1.1.1.1.0.0.0.0.0.0 & v54329358\\\\\n",
       "\t 0 & 235350 & 2017-01-01 & 2020-03-03T08:30 & 0 & 12 & 0 & 1.1.1.1.0.0.0.0.0.0 & v54329358\\\\\n",
       "\\end{tabular}\n"
      ],
      "text/markdown": [
       "\n",
       "A tibble: 5 × 9\n",
       "\n",
       "| DECIMALS &lt;int&gt; | VALUE &lt;dbl&gt; | REF_DATE &lt;chr&gt; | releaseTime &lt;chr&gt; | SYMBOL &lt;int&gt; | frequencyCode &lt;int&gt; | SCALAR_ID &lt;int&gt; | COORDINATE &lt;chr&gt; | VECTOR &lt;chr&gt; |\n",
       "|---|---|---|---|---|---|---|---|---|\n",
       "| 0 | 232910 | 2013-01-01 | 2018-07-30T08:30 | 0 | 12 | 0 | 1.1.1.1.0.0.0.0.0.0 | v54329358 |\n",
       "| 0 | 246100 | 2014-01-01 | 2019-02-25T08:30 | 0 | 12 | 0 | 1.1.1.1.0.0.0.0.0.0 | v54329358 |\n",
       "| 0 | 251960 | 2015-01-01 | 2019-02-25T08:30 | 0 | 12 | 0 | 1.1.1.1.0.0.0.0.0.0 | v54329358 |\n",
       "| 0 | 235450 | 2016-01-01 | 2020-03-03T08:30 | 0 | 12 | 0 | 1.1.1.1.0.0.0.0.0.0 | v54329358 |\n",
       "| 0 | 235350 | 2017-01-01 | 2020-03-03T08:30 | 0 | 12 | 0 | 1.1.1.1.0.0.0.0.0.0 | v54329358 |\n",
       "\n"
      ],
      "text/plain": [
       "  DECIMALS VALUE  REF_DATE   releaseTime      SYMBOL frequencyCode SCALAR_ID\n",
       "1 0        232910 2013-01-01 2018-07-30T08:30 0      12            0        \n",
       "2 0        246100 2014-01-01 2019-02-25T08:30 0      12            0        \n",
       "3 0        251960 2015-01-01 2019-02-25T08:30 0      12            0        \n",
       "4 0        235450 2016-01-01 2020-03-03T08:30 0      12            0        \n",
       "5 0        235350 2017-01-01 2020-03-03T08:30 0      12            0        \n",
       "  COORDINATE          VECTOR   \n",
       "1 1.1.1.1.0.0.0.0.0.0 v54329358\n",
       "2 1.1.1.1.0.0.0.0.0.0 v54329358\n",
       "3 1.1.1.1.0.0.0.0.0.0 v54329358\n",
       "4 1.1.1.1.0.0.0.0.0.0 v54329358\n",
       "5 1.1.1.1.0.0.0.0.0.0 v54329358"
      ]
     },
     "metadata": {},
     "output_type": "display_data"
    }
   ],
   "source": [
    "# 2013-01-01 is date from which on the data is provided\n",
    "get_cansim_vector(\"v54329358\",\"2013-01-01\")"
   ]
  },
  {
   "cell_type": "markdown",
   "metadata": {},
   "source": [
    "Getting the meta data of the vector."
   ]
  },
  {
   "cell_type": "code",
   "execution_count": 9,
   "metadata": {},
   "outputs": [
    {
     "data": {
      "text/html": [
       "<table>\n",
       "<caption>A tibble: 1 × 10</caption>\n",
       "<thead>\n",
       "\t<tr><th scope=col>DECIMALS</th><th scope=col>VECTOR</th><th scope=col>table</th><th scope=col>COORDINATE</th><th scope=col>title_en</th><th scope=col>title_fr</th><th scope=col>UOM</th><th scope=col>frequencyCode</th><th scope=col>SCALAR_ID</th><th scope=col>title</th></tr>\n",
       "\t<tr><th scope=col>&lt;int&gt;</th><th scope=col>&lt;chr&gt;</th><th scope=col>&lt;chr&gt;</th><th scope=col>&lt;chr&gt;</th><th scope=col>&lt;chr&gt;</th><th scope=col>&lt;chr&gt;</th><th scope=col>&lt;int&gt;</th><th scope=col>&lt;int&gt;</th><th scope=col>&lt;int&gt;</th><th scope=col>&lt;chr&gt;</th></tr>\n",
       "</thead>\n",
       "<tbody>\n",
       "\t<tr><td>0</td><td>v54329358</td><td>27-10-0022</td><td>1.1.1.1.0.0.0.0.0.0</td><td>Canada;Total performing sector;Total personnel;Total sciences</td><td>Canada;Total, secteurs d'exécution;Total de personnel;Total des sciences</td><td>223</td><td>12</td><td>0</td><td>Canada;Total performing sector;Total personnel;Total sciences</td></tr>\n",
       "</tbody>\n",
       "</table>\n"
      ],
      "text/latex": [
       "A tibble: 1 × 10\n",
       "\\begin{tabular}{llllllllll}\n",
       " DECIMALS & VECTOR & table & COORDINATE & title\\_en & title\\_fr & UOM & frequencyCode & SCALAR\\_ID & title\\\\\n",
       " <int> & <chr> & <chr> & <chr> & <chr> & <chr> & <int> & <int> & <int> & <chr>\\\\\n",
       "\\hline\n",
       "\t 0 & v54329358 & 27-10-0022 & 1.1.1.1.0.0.0.0.0.0 & Canada;Total performing sector;Total personnel;Total sciences & Canada;Total, secteurs d'exécution;Total de personnel;Total des sciences & 223 & 12 & 0 & Canada;Total performing sector;Total personnel;Total sciences\\\\\n",
       "\\end{tabular}\n"
      ],
      "text/markdown": [
       "\n",
       "A tibble: 1 × 10\n",
       "\n",
       "| DECIMALS &lt;int&gt; | VECTOR &lt;chr&gt; | table &lt;chr&gt; | COORDINATE &lt;chr&gt; | title_en &lt;chr&gt; | title_fr &lt;chr&gt; | UOM &lt;int&gt; | frequencyCode &lt;int&gt; | SCALAR_ID &lt;int&gt; | title &lt;chr&gt; |\n",
       "|---|---|---|---|---|---|---|---|---|---|\n",
       "| 0 | v54329358 | 27-10-0022 | 1.1.1.1.0.0.0.0.0.0 | Canada;Total performing sector;Total personnel;Total sciences | Canada;Total, secteurs d'exécution;Total de personnel;Total des sciences | 223 | 12 | 0 | Canada;Total performing sector;Total personnel;Total sciences |\n",
       "\n"
      ],
      "text/plain": [
       "  DECIMALS VECTOR    table      COORDINATE         \n",
       "1 0        v54329358 27-10-0022 1.1.1.1.0.0.0.0.0.0\n",
       "  title_en                                                     \n",
       "1 Canada;Total performing sector;Total personnel;Total sciences\n",
       "  title_fr                                                                 UOM\n",
       "1 Canada;Total, secteurs d'exécution;Total de personnel;Total des sciences 223\n",
       "  frequencyCode SCALAR_ID\n",
       "1 12            0        \n",
       "  title                                                        \n",
       "1 Canada;Total performing sector;Total personnel;Total sciences"
      ]
     },
     "metadata": {},
     "output_type": "display_data"
    }
   ],
   "source": [
    "get_cansim_vector_info(\"v54329358\")"
   ]
  },
  {
   "cell_type": "markdown",
   "metadata": {},
   "source": [
    "Finally, let's get a list of tables:"
   ]
  },
  {
   "cell_type": "code",
   "execution_count": 10,
   "metadata": {},
   "outputs": [
    {
     "name": "stderr",
     "output_type": "stream",
     "text": [
      "Your CANSIM table overview data is 75 days old.\n",
      "Consider setting options(cansim.cache_path=\"your cache path\")\n",
      "in your .Rprofile and refreshing the table via list_cansim_tables(refresh=TRUE).\n",
      "\n",
      "\n",
      "\n",
      "The table won't be able to be refreshed if options(cansim.cache_path=\"your cache path\") is not set.\n",
      "\n"
     ]
    },
    {
     "data": {
      "text/html": [
       "<table>\n",
       "<caption>A tibble: 6 × 21</caption>\n",
       "<thead>\n",
       "\t<tr><th scope=col>title</th><th scope=col>title_en</th><th scope=col>title_fr</th><th scope=col>keywords_en</th><th scope=col>keywords</th><th scope=col>keywords_fr</th><th scope=col>notes</th><th scope=col>notes_en</th><th scope=col>notes_fr</th><th scope=col>state</th><th scope=col>⋯</th><th scope=col>date_published</th><th scope=col>frequency</th><th scope=col>revision_id</th><th scope=col>time_period_coverage_start</th><th scope=col>time_period_coverage_end</th><th scope=col>metadata_created</th><th scope=col>metadata_modified</th><th scope=col>url_en</th><th scope=col>url_fr</th><th scope=col>cansim_table_number</th></tr>\n",
       "\t<tr><th scope=col>&lt;chr&gt;</th><th scope=col>&lt;chr&gt;</th><th scope=col>&lt;chr&gt;</th><th scope=col>&lt;chr&gt;</th><th scope=col>&lt;chr&gt;</th><th scope=col>&lt;chr&gt;</th><th scope=col>&lt;chr&gt;</th><th scope=col>&lt;chr&gt;</th><th scope=col>&lt;chr&gt;</th><th scope=col>&lt;chr&gt;</th><th scope=col>⋯</th><th scope=col>&lt;chr&gt;</th><th scope=col>&lt;chr&gt;</th><th scope=col>&lt;chr&gt;</th><th scope=col>&lt;chr&gt;</th><th scope=col>&lt;chr&gt;</th><th scope=col>&lt;chr&gt;</th><th scope=col>&lt;chr&gt;</th><th scope=col>&lt;chr&gt;</th><th scope=col>&lt;chr&gt;</th><th scope=col>&lt;chr&gt;</th></tr>\n",
       "</thead>\n",
       "<tbody>\n",
       "\t<tr><td><span style=white-space:pre-wrap>Weekly rail system performance indicators, by commodities, Transport Canada    </span></td><td><span style=white-space:pre-wrap>Weekly rail system performance indicators, by commodities, Transport Canada    </span></td><td>Indicateurs hebdomadaires de performance du système ferroviaire, par marchandises, Transports Canada</td><td><span style=white-space:pre-wrap>rail transportation, table, transportation                                                                      </span></td><td><span style=white-space:pre-wrap>rail transportation, table, transportation                                                                      </span></td><td><span style=white-space:pre-wrap>rail transportation, table, transportation                                                                      </span></td><td><span style=white-space:pre-wrap>&lt;p&gt;This product presents statistics on the rail performance of 4 companies, by selected commodities, on a weekly basis, starting with the reference period of November 24-30, 2018.&lt;/p&gt;             </span></td><td><span style=white-space:pre-wrap>&lt;p&gt;This product presents statistics on the rail performance of 4 companies, by selected commodities, on a weekly basis, starting with the reference period of November 24-30, 2018.&lt;/p&gt;             </span></td><td><span style=white-space:pre-wrap>&lt;p&gt;Ce produit présente des statistiques sur la performance ferroviaire de 4 compagnies, par marchandises sélectionnées, sur une base hebdomadaire, à partir de la période de référence du 24-30 novembre 2018.&lt;br&gt;&lt;br&gt;&lt;/p&gt;                      </span></td><td>active</td><td>⋯</td><td>2020-01-10 08:30:00</td><td>P1W</td><td>5c92f131-71ce-4553-9528-2ea2f60f919f</td><td>NA</td><td>NA</td><td>2018-12-14T18:20:46.242165</td><td>2020-01-10T14:02:40.485563</td><td>https://www150.statcan.gc.ca/n1/tbl/csv/23100276-eng.zip</td><td>https://www150.statcan.gc.ca/n1/tbl/csv/23100276-fra.zip</td><td>23-10-0276</td></tr>\n",
       "\t<tr><td>Weekly rail system performance indicator, by type of rail car, Transport Canada</td><td>Weekly rail system performance indicator, by type of rail car, Transport Canada</td><td>Indicateur hebdomadaire de performance du système ferroviaire, par type de wagon, Transports Canada </td><td><span style=white-space:pre-wrap>rail transportation, table, transportation                                                                      </span></td><td><span style=white-space:pre-wrap>rail transportation, table, transportation                                                                      </span></td><td><span style=white-space:pre-wrap>rail transportation, table, transportation                                                                      </span></td><td><span style=white-space:pre-wrap>&lt;p&gt;This product presents statistics on the rail performance of 4 companies, by type of rail car, on a weekly basis, starting with the reference period of November 24-30, 2018.&lt;/p&gt;                 </span></td><td><span style=white-space:pre-wrap>&lt;p&gt;This product presents statistics on the rail performance of 4 companies, by type of rail car, on a weekly basis, starting with the reference period of November 24-30, 2018.&lt;/p&gt;                 </span></td><td><span style=white-space:pre-wrap>&lt;p&gt;Ce produit présente des statistiques sur la performance ferroviaire de 4 compagnies, par type de wagon, sur une base hebdomadaire, à partir de la période de référence du 24-30 novembre 2018.&lt;/p&gt;                                           </span></td><td>active</td><td>⋯</td><td>2020-01-10 08:30:00</td><td>P1W</td><td>07b441d8-c546-48a0-b555-86dbe43e6a06</td><td>NA</td><td>NA</td><td>2018-12-14T18:20:36.330575</td><td>2020-01-10T14:02:30.085602</td><td>https://www150.statcan.gc.ca/n1/tbl/csv/23100277-eng.zip</td><td>https://www150.statcan.gc.ca/n1/tbl/csv/23100277-fra.zip</td><td>23-10-0277</td></tr>\n",
       "\t<tr><td><span style=white-space:pre-wrap>Weekly rail terminal performance indicator, Transport Canada                   </span></td><td><span style=white-space:pre-wrap>Weekly rail terminal performance indicator, Transport Canada                   </span></td><td><span style=white-space:pre-wrap>Indicateur hebdomadaire de performance des terminaux ferroviaires, Transports Canada                </span></td><td><span style=white-space:pre-wrap>rail transportation, table, transportation                                                                      </span></td><td><span style=white-space:pre-wrap>rail transportation, table, transportation                                                                      </span></td><td><span style=white-space:pre-wrap>rail transportation, table, transportation                                                                      </span></td><td><span style=white-space:pre-wrap>&lt;p&gt;This product presents statistics on the rail terminal performance of 4 companies, by selected terminals, on a weekly basis, starting with the reference period of November 24-30, 2018.&lt;/p&gt;      </span></td><td><span style=white-space:pre-wrap>&lt;p&gt;This product presents statistics on the rail terminal performance of 4 companies, by selected terminals, on a weekly basis, starting with the reference period of November 24-30, 2018.&lt;/p&gt;      </span></td><td><span style=white-space:pre-wrap>&lt;p&gt;Ce produit présente des statistiques sur la performance des terminaux ferroviaires de 4 compagnies, par terminaux sélectionnés, sur une base hebdomadaire, à partir de la période de référence du 24-30 novembre 2018.&lt;br&gt;&lt;/p&gt;               </span></td><td>active</td><td>⋯</td><td>2020-01-10 08:30:00</td><td>P1W</td><td>be0c4aef-0551-4b8c-85c2-277a689a4fee</td><td>NA</td><td>NA</td><td>2018-12-14T18:20:30.885671</td><td>2020-01-10T14:02:18.564779</td><td>https://www150.statcan.gc.ca/n1/tbl/csv/23100274-eng.zip</td><td>https://www150.statcan.gc.ca/n1/tbl/csv/23100274-fra.zip</td><td>23-10-0274</td></tr>\n",
       "\t<tr><td>Weekly performance indicators of grain transportation by rail, Transport Canada</td><td>Weekly performance indicators of grain transportation by rail, Transport Canada</td><td><span style=white-space:pre-wrap>Indicateurs hebdomadaires de performance du transport du grain par rail, Transports Canada          </span></td><td><span style=white-space:pre-wrap>rail transportation, table, transportation                                                                      </span></td><td><span style=white-space:pre-wrap>rail transportation, table, transportation                                                                      </span></td><td><span style=white-space:pre-wrap>rail transportation, table, transportation                                                                      </span></td><td>&lt;p&gt;This product presents statistics on transportation of grain by 4 rail companies, by number of cars and orders, on a weekly basis, starting with the reference period of November 24-30, 2018.&lt;/p&gt;</td><td>&lt;p&gt;This product presents statistics on transportation of grain by 4 rail companies, by number of cars and orders, on a weekly basis, starting with the reference period of November 24-30, 2018.&lt;/p&gt;</td><td>&lt;p&gt;Ce produit présente des statistiques sur le transport du grain par 4 compagnies ferroviaires, selon le nombre de wagons et le nombre de commandes, sur une base hebdomadaire, à partir de la période de référence du 24-30 novembre 2018.&lt;/p&gt;</td><td>active</td><td>⋯</td><td>2020-01-10 08:30:00</td><td>P1W</td><td>f2d547b9-ad41-4f17-a661-435eb88a1cce</td><td>NA</td><td>NA</td><td>2018-12-14T18:20:28.502570</td><td>2020-01-10T14:02:03.176104</td><td>https://www150.statcan.gc.ca/n1/tbl/csv/23100275-eng.zip</td><td>https://www150.statcan.gc.ca/n1/tbl/csv/23100275-fra.zip</td><td>23-10-0275</td></tr>\n",
       "\t<tr><td>Job tenure by industry, monthly, unadjusted for seasonality                    </td><td>Job tenure by industry, monthly, unadjusted for seasonality                    </td><td>Durée de l'emploi selon l'industrie, données mensuelles non désaisonnalisées                        </td><td>hours of work and work arrangements, labour, other content related to hours of work and work arrangements, table</td><td>hours of work and work arrangements, labour, other content related to hours of work and work arrangements, table</td><td>hours of work and work arrangements, labour, other content related to hours of work and work arrangements, table</td><td>Number of employed persons by job tenure, North American Industry Classification System (NAICS) and sex, last 5 months.                                                                             </td><td>Number of employed persons by job tenure, North American Industry Classification System (NAICS) and sex, last 5 months.                                                                             </td><td>Nombre de personnes occupées selon la durée de l'emploi, le Système de classification des industries de l'Amérique du Nord (SCIAN) et le sexe, 5 derniers mois.                                                                                 </td><td>active</td><td>⋯</td><td>2020-01-10 08:30:00</td><td>P1M</td><td>d86bba28-7be1-41d6-9c8a-2bad5030ec81</td><td>NA</td><td>NA</td><td>2018-06-27T16:50:03.076687</td><td>2020-01-10T14:01:56.913543</td><td>https://www150.statcan.gc.ca/n1/tbl/csv/14100054-eng.zip</td><td>https://www150.statcan.gc.ca/n1/tbl/csv/14100054-fra.zip</td><td>14-10-0054</td></tr>\n",
       "\t<tr><td>Job tenure by industry, annual                                                 </td><td>Job tenure by industry, annual                                                 </td><td>Durée de l'emploi selon l'industrie, données annuelles                                              </td><td>hours of work and work arrangements, labour, other content related to hours of work and work arrangements, table</td><td>hours of work and work arrangements, labour, other content related to hours of work and work arrangements, table</td><td>hours of work and work arrangements, labour, other content related to hours of work and work arrangements, table</td><td>Number of employed persons by job tenure, North American Industry Classification System (NAICS) and sex, last 5 years.                                                                              </td><td>Number of employed persons by job tenure, North American Industry Classification System (NAICS) and sex, last 5 years.                                                                              </td><td>Nombre de personnes occupées selon la durée de l'emploi, le Système de classification des industries de l'Amérique du Nord (SCIAN) et le sexe, 5 dernières années.                                                                              </td><td>active</td><td>⋯</td><td>2020-01-10 08:30:00</td><td>P1Y</td><td>4f141c08-13a2-4eeb-a453-9d97651f0704</td><td>NA</td><td>NA</td><td>2018-06-27T17:36:21.613816</td><td>2020-01-10T14:01:51.930672</td><td>https://www150.statcan.gc.ca/n1/tbl/csv/14100055-eng.zip</td><td>https://www150.statcan.gc.ca/n1/tbl/csv/14100055-fra.zip</td><td>14-10-0055</td></tr>\n",
       "</tbody>\n",
       "</table>\n"
      ],
      "text/latex": [
       "A tibble: 6 × 21\n",
       "\\begin{tabular}{lllllllllllllllllllll}\n",
       " title & title\\_en & title\\_fr & keywords\\_en & keywords & keywords\\_fr & notes & notes\\_en & notes\\_fr & state & ⋯ & date\\_published & frequency & revision\\_id & time\\_period\\_coverage\\_start & time\\_period\\_coverage\\_end & metadata\\_created & metadata\\_modified & url\\_en & url\\_fr & cansim\\_table\\_number\\\\\n",
       " <chr> & <chr> & <chr> & <chr> & <chr> & <chr> & <chr> & <chr> & <chr> & <chr> & ⋯ & <chr> & <chr> & <chr> & <chr> & <chr> & <chr> & <chr> & <chr> & <chr> & <chr>\\\\\n",
       "\\hline\n",
       "\t Weekly rail system performance indicators, by commodities, Transport Canada     & Weekly rail system performance indicators, by commodities, Transport Canada     & Indicateurs hebdomadaires de performance du système ferroviaire, par marchandises, Transports Canada & rail transportation, table, transportation                                                                       & rail transportation, table, transportation                                                                       & rail transportation, table, transportation                                                                       & <p>This product presents statistics on the rail performance of 4 companies, by selected commodities, on a weekly basis, starting with the reference period of November 24-30, 2018.</p>              & <p>This product presents statistics on the rail performance of 4 companies, by selected commodities, on a weekly basis, starting with the reference period of November 24-30, 2018.</p>              & <p>Ce produit présente des statistiques sur la performance ferroviaire de 4 compagnies, par marchandises sélectionnées, sur une base hebdomadaire, à partir de la période de référence du 24-30 novembre 2018.<br><br></p>                       & active & ⋯ & 2020-01-10 08:30:00 & P1W & 5c92f131-71ce-4553-9528-2ea2f60f919f & NA & NA & 2018-12-14T18:20:46.242165 & 2020-01-10T14:02:40.485563 & https://www150.statcan.gc.ca/n1/tbl/csv/23100276-eng.zip & https://www150.statcan.gc.ca/n1/tbl/csv/23100276-fra.zip & 23-10-0276\\\\\n",
       "\t Weekly rail system performance indicator, by type of rail car, Transport Canada & Weekly rail system performance indicator, by type of rail car, Transport Canada & Indicateur hebdomadaire de performance du système ferroviaire, par type de wagon, Transports Canada  & rail transportation, table, transportation                                                                       & rail transportation, table, transportation                                                                       & rail transportation, table, transportation                                                                       & <p>This product presents statistics on the rail performance of 4 companies, by type of rail car, on a weekly basis, starting with the reference period of November 24-30, 2018.</p>                  & <p>This product presents statistics on the rail performance of 4 companies, by type of rail car, on a weekly basis, starting with the reference period of November 24-30, 2018.</p>                  & <p>Ce produit présente des statistiques sur la performance ferroviaire de 4 compagnies, par type de wagon, sur une base hebdomadaire, à partir de la période de référence du 24-30 novembre 2018.</p>                                            & active & ⋯ & 2020-01-10 08:30:00 & P1W & 07b441d8-c546-48a0-b555-86dbe43e6a06 & NA & NA & 2018-12-14T18:20:36.330575 & 2020-01-10T14:02:30.085602 & https://www150.statcan.gc.ca/n1/tbl/csv/23100277-eng.zip & https://www150.statcan.gc.ca/n1/tbl/csv/23100277-fra.zip & 23-10-0277\\\\\n",
       "\t Weekly rail terminal performance indicator, Transport Canada                    & Weekly rail terminal performance indicator, Transport Canada                    & Indicateur hebdomadaire de performance des terminaux ferroviaires, Transports Canada                 & rail transportation, table, transportation                                                                       & rail transportation, table, transportation                                                                       & rail transportation, table, transportation                                                                       & <p>This product presents statistics on the rail terminal performance of 4 companies, by selected terminals, on a weekly basis, starting with the reference period of November 24-30, 2018.</p>       & <p>This product presents statistics on the rail terminal performance of 4 companies, by selected terminals, on a weekly basis, starting with the reference period of November 24-30, 2018.</p>       & <p>Ce produit présente des statistiques sur la performance des terminaux ferroviaires de 4 compagnies, par terminaux sélectionnés, sur une base hebdomadaire, à partir de la période de référence du 24-30 novembre 2018.<br></p>                & active & ⋯ & 2020-01-10 08:30:00 & P1W & be0c4aef-0551-4b8c-85c2-277a689a4fee & NA & NA & 2018-12-14T18:20:30.885671 & 2020-01-10T14:02:18.564779 & https://www150.statcan.gc.ca/n1/tbl/csv/23100274-eng.zip & https://www150.statcan.gc.ca/n1/tbl/csv/23100274-fra.zip & 23-10-0274\\\\\n",
       "\t Weekly performance indicators of grain transportation by rail, Transport Canada & Weekly performance indicators of grain transportation by rail, Transport Canada & Indicateurs hebdomadaires de performance du transport du grain par rail, Transports Canada           & rail transportation, table, transportation                                                                       & rail transportation, table, transportation                                                                       & rail transportation, table, transportation                                                                       & <p>This product presents statistics on transportation of grain by 4 rail companies, by number of cars and orders, on a weekly basis, starting with the reference period of November 24-30, 2018.</p> & <p>This product presents statistics on transportation of grain by 4 rail companies, by number of cars and orders, on a weekly basis, starting with the reference period of November 24-30, 2018.</p> & <p>Ce produit présente des statistiques sur le transport du grain par 4 compagnies ferroviaires, selon le nombre de wagons et le nombre de commandes, sur une base hebdomadaire, à partir de la période de référence du 24-30 novembre 2018.</p> & active & ⋯ & 2020-01-10 08:30:00 & P1W & f2d547b9-ad41-4f17-a661-435eb88a1cce & NA & NA & 2018-12-14T18:20:28.502570 & 2020-01-10T14:02:03.176104 & https://www150.statcan.gc.ca/n1/tbl/csv/23100275-eng.zip & https://www150.statcan.gc.ca/n1/tbl/csv/23100275-fra.zip & 23-10-0275\\\\\n",
       "\t Job tenure by industry, monthly, unadjusted for seasonality                     & Job tenure by industry, monthly, unadjusted for seasonality                     & Durée de l'emploi selon l'industrie, données mensuelles non désaisonnalisées                         & hours of work and work arrangements, labour, other content related to hours of work and work arrangements, table & hours of work and work arrangements, labour, other content related to hours of work and work arrangements, table & hours of work and work arrangements, labour, other content related to hours of work and work arrangements, table & Number of employed persons by job tenure, North American Industry Classification System (NAICS) and sex, last 5 months.                                                                              & Number of employed persons by job tenure, North American Industry Classification System (NAICS) and sex, last 5 months.                                                                              & Nombre de personnes occupées selon la durée de l'emploi, le Système de classification des industries de l'Amérique du Nord (SCIAN) et le sexe, 5 derniers mois.                                                                                  & active & ⋯ & 2020-01-10 08:30:00 & P1M & d86bba28-7be1-41d6-9c8a-2bad5030ec81 & NA & NA & 2018-06-27T16:50:03.076687 & 2020-01-10T14:01:56.913543 & https://www150.statcan.gc.ca/n1/tbl/csv/14100054-eng.zip & https://www150.statcan.gc.ca/n1/tbl/csv/14100054-fra.zip & 14-10-0054\\\\\n",
       "\t Job tenure by industry, annual                                                  & Job tenure by industry, annual                                                  & Durée de l'emploi selon l'industrie, données annuelles                                               & hours of work and work arrangements, labour, other content related to hours of work and work arrangements, table & hours of work and work arrangements, labour, other content related to hours of work and work arrangements, table & hours of work and work arrangements, labour, other content related to hours of work and work arrangements, table & Number of employed persons by job tenure, North American Industry Classification System (NAICS) and sex, last 5 years.                                                                               & Number of employed persons by job tenure, North American Industry Classification System (NAICS) and sex, last 5 years.                                                                               & Nombre de personnes occupées selon la durée de l'emploi, le Système de classification des industries de l'Amérique du Nord (SCIAN) et le sexe, 5 dernières années.                                                                               & active & ⋯ & 2020-01-10 08:30:00 & P1Y & 4f141c08-13a2-4eeb-a453-9d97651f0704 & NA & NA & 2018-06-27T17:36:21.613816 & 2020-01-10T14:01:51.930672 & https://www150.statcan.gc.ca/n1/tbl/csv/14100055-eng.zip & https://www150.statcan.gc.ca/n1/tbl/csv/14100055-fra.zip & 14-10-0055\\\\\n",
       "\\end{tabular}\n"
      ],
      "text/markdown": [
       "\n",
       "A tibble: 6 × 21\n",
       "\n",
       "| title &lt;chr&gt; | title_en &lt;chr&gt; | title_fr &lt;chr&gt; | keywords_en &lt;chr&gt; | keywords &lt;chr&gt; | keywords_fr &lt;chr&gt; | notes &lt;chr&gt; | notes_en &lt;chr&gt; | notes_fr &lt;chr&gt; | state &lt;chr&gt; | ⋯ ⋯ | date_published &lt;chr&gt; | frequency &lt;chr&gt; | revision_id &lt;chr&gt; | time_period_coverage_start &lt;chr&gt; | time_period_coverage_end &lt;chr&gt; | metadata_created &lt;chr&gt; | metadata_modified &lt;chr&gt; | url_en &lt;chr&gt; | url_fr &lt;chr&gt; | cansim_table_number &lt;chr&gt; |\n",
       "|---|---|---|---|---|---|---|---|---|---|---|---|---|---|---|---|---|---|---|---|---|\n",
       "| Weekly rail system performance indicators, by commodities, Transport Canada     | Weekly rail system performance indicators, by commodities, Transport Canada     | Indicateurs hebdomadaires de performance du système ferroviaire, par marchandises, Transports Canada | rail transportation, table, transportation                                                                       | rail transportation, table, transportation                                                                       | rail transportation, table, transportation                                                                       | &lt;p&gt;This product presents statistics on the rail performance of 4 companies, by selected commodities, on a weekly basis, starting with the reference period of November 24-30, 2018.&lt;/p&gt;              | &lt;p&gt;This product presents statistics on the rail performance of 4 companies, by selected commodities, on a weekly basis, starting with the reference period of November 24-30, 2018.&lt;/p&gt;              | &lt;p&gt;Ce produit présente des statistiques sur la performance ferroviaire de 4 compagnies, par marchandises sélectionnées, sur une base hebdomadaire, à partir de la période de référence du 24-30 novembre 2018.&lt;br&gt;&lt;br&gt;&lt;/p&gt;                       | active | ⋯ | 2020-01-10 08:30:00 | P1W | 5c92f131-71ce-4553-9528-2ea2f60f919f | NA | NA | 2018-12-14T18:20:46.242165 | 2020-01-10T14:02:40.485563 | https://www150.statcan.gc.ca/n1/tbl/csv/23100276-eng.zip | https://www150.statcan.gc.ca/n1/tbl/csv/23100276-fra.zip | 23-10-0276 |\n",
       "| Weekly rail system performance indicator, by type of rail car, Transport Canada | Weekly rail system performance indicator, by type of rail car, Transport Canada | Indicateur hebdomadaire de performance du système ferroviaire, par type de wagon, Transports Canada  | rail transportation, table, transportation                                                                       | rail transportation, table, transportation                                                                       | rail transportation, table, transportation                                                                       | &lt;p&gt;This product presents statistics on the rail performance of 4 companies, by type of rail car, on a weekly basis, starting with the reference period of November 24-30, 2018.&lt;/p&gt;                  | &lt;p&gt;This product presents statistics on the rail performance of 4 companies, by type of rail car, on a weekly basis, starting with the reference period of November 24-30, 2018.&lt;/p&gt;                  | &lt;p&gt;Ce produit présente des statistiques sur la performance ferroviaire de 4 compagnies, par type de wagon, sur une base hebdomadaire, à partir de la période de référence du 24-30 novembre 2018.&lt;/p&gt;                                            | active | ⋯ | 2020-01-10 08:30:00 | P1W | 07b441d8-c546-48a0-b555-86dbe43e6a06 | NA | NA | 2018-12-14T18:20:36.330575 | 2020-01-10T14:02:30.085602 | https://www150.statcan.gc.ca/n1/tbl/csv/23100277-eng.zip | https://www150.statcan.gc.ca/n1/tbl/csv/23100277-fra.zip | 23-10-0277 |\n",
       "| Weekly rail terminal performance indicator, Transport Canada                    | Weekly rail terminal performance indicator, Transport Canada                    | Indicateur hebdomadaire de performance des terminaux ferroviaires, Transports Canada                 | rail transportation, table, transportation                                                                       | rail transportation, table, transportation                                                                       | rail transportation, table, transportation                                                                       | &lt;p&gt;This product presents statistics on the rail terminal performance of 4 companies, by selected terminals, on a weekly basis, starting with the reference period of November 24-30, 2018.&lt;/p&gt;       | &lt;p&gt;This product presents statistics on the rail terminal performance of 4 companies, by selected terminals, on a weekly basis, starting with the reference period of November 24-30, 2018.&lt;/p&gt;       | &lt;p&gt;Ce produit présente des statistiques sur la performance des terminaux ferroviaires de 4 compagnies, par terminaux sélectionnés, sur une base hebdomadaire, à partir de la période de référence du 24-30 novembre 2018.&lt;br&gt;&lt;/p&gt;                | active | ⋯ | 2020-01-10 08:30:00 | P1W | be0c4aef-0551-4b8c-85c2-277a689a4fee | NA | NA | 2018-12-14T18:20:30.885671 | 2020-01-10T14:02:18.564779 | https://www150.statcan.gc.ca/n1/tbl/csv/23100274-eng.zip | https://www150.statcan.gc.ca/n1/tbl/csv/23100274-fra.zip | 23-10-0274 |\n",
       "| Weekly performance indicators of grain transportation by rail, Transport Canada | Weekly performance indicators of grain transportation by rail, Transport Canada | Indicateurs hebdomadaires de performance du transport du grain par rail, Transports Canada           | rail transportation, table, transportation                                                                       | rail transportation, table, transportation                                                                       | rail transportation, table, transportation                                                                       | &lt;p&gt;This product presents statistics on transportation of grain by 4 rail companies, by number of cars and orders, on a weekly basis, starting with the reference period of November 24-30, 2018.&lt;/p&gt; | &lt;p&gt;This product presents statistics on transportation of grain by 4 rail companies, by number of cars and orders, on a weekly basis, starting with the reference period of November 24-30, 2018.&lt;/p&gt; | &lt;p&gt;Ce produit présente des statistiques sur le transport du grain par 4 compagnies ferroviaires, selon le nombre de wagons et le nombre de commandes, sur une base hebdomadaire, à partir de la période de référence du 24-30 novembre 2018.&lt;/p&gt; | active | ⋯ | 2020-01-10 08:30:00 | P1W | f2d547b9-ad41-4f17-a661-435eb88a1cce | NA | NA | 2018-12-14T18:20:28.502570 | 2020-01-10T14:02:03.176104 | https://www150.statcan.gc.ca/n1/tbl/csv/23100275-eng.zip | https://www150.statcan.gc.ca/n1/tbl/csv/23100275-fra.zip | 23-10-0275 |\n",
       "| Job tenure by industry, monthly, unadjusted for seasonality                     | Job tenure by industry, monthly, unadjusted for seasonality                     | Durée de l'emploi selon l'industrie, données mensuelles non désaisonnalisées                         | hours of work and work arrangements, labour, other content related to hours of work and work arrangements, table | hours of work and work arrangements, labour, other content related to hours of work and work arrangements, table | hours of work and work arrangements, labour, other content related to hours of work and work arrangements, table | Number of employed persons by job tenure, North American Industry Classification System (NAICS) and sex, last 5 months.                                                                              | Number of employed persons by job tenure, North American Industry Classification System (NAICS) and sex, last 5 months.                                                                              | Nombre de personnes occupées selon la durée de l'emploi, le Système de classification des industries de l'Amérique du Nord (SCIAN) et le sexe, 5 derniers mois.                                                                                  | active | ⋯ | 2020-01-10 08:30:00 | P1M | d86bba28-7be1-41d6-9c8a-2bad5030ec81 | NA | NA | 2018-06-27T16:50:03.076687 | 2020-01-10T14:01:56.913543 | https://www150.statcan.gc.ca/n1/tbl/csv/14100054-eng.zip | https://www150.statcan.gc.ca/n1/tbl/csv/14100054-fra.zip | 14-10-0054 |\n",
       "| Job tenure by industry, annual                                                  | Job tenure by industry, annual                                                  | Durée de l'emploi selon l'industrie, données annuelles                                               | hours of work and work arrangements, labour, other content related to hours of work and work arrangements, table | hours of work and work arrangements, labour, other content related to hours of work and work arrangements, table | hours of work and work arrangements, labour, other content related to hours of work and work arrangements, table | Number of employed persons by job tenure, North American Industry Classification System (NAICS) and sex, last 5 years.                                                                               | Number of employed persons by job tenure, North American Industry Classification System (NAICS) and sex, last 5 years.                                                                               | Nombre de personnes occupées selon la durée de l'emploi, le Système de classification des industries de l'Amérique du Nord (SCIAN) et le sexe, 5 dernières années.                                                                               | active | ⋯ | 2020-01-10 08:30:00 | P1Y | 4f141c08-13a2-4eeb-a453-9d97651f0704 | NA | NA | 2018-06-27T17:36:21.613816 | 2020-01-10T14:01:51.930672 | https://www150.statcan.gc.ca/n1/tbl/csv/14100055-eng.zip | https://www150.statcan.gc.ca/n1/tbl/csv/14100055-fra.zip | 14-10-0055 |\n",
       "\n"
      ],
      "text/plain": [
       "  title                                                                          \n",
       "1 Weekly rail system performance indicators, by commodities, Transport Canada    \n",
       "2 Weekly rail system performance indicator, by type of rail car, Transport Canada\n",
       "3 Weekly rail terminal performance indicator, Transport Canada                   \n",
       "4 Weekly performance indicators of grain transportation by rail, Transport Canada\n",
       "5 Job tenure by industry, monthly, unadjusted for seasonality                    \n",
       "6 Job tenure by industry, annual                                                 \n",
       "  title_en                                                                       \n",
       "1 Weekly rail system performance indicators, by commodities, Transport Canada    \n",
       "2 Weekly rail system performance indicator, by type of rail car, Transport Canada\n",
       "3 Weekly rail terminal performance indicator, Transport Canada                   \n",
       "4 Weekly performance indicators of grain transportation by rail, Transport Canada\n",
       "5 Job tenure by industry, monthly, unadjusted for seasonality                    \n",
       "6 Job tenure by industry, annual                                                 \n",
       "  title_fr                                                                                            \n",
       "1 Indicateurs hebdomadaires de performance du système ferroviaire, par marchandises, Transports Canada\n",
       "2 Indicateur hebdomadaire de performance du système ferroviaire, par type de wagon, Transports Canada \n",
       "3 Indicateur hebdomadaire de performance des terminaux ferroviaires, Transports Canada                \n",
       "4 Indicateurs hebdomadaires de performance du transport du grain par rail, Transports Canada          \n",
       "5 Durée de l'emploi selon l'industrie, données mensuelles non désaisonnalisées                        \n",
       "6 Durée de l'emploi selon l'industrie, données annuelles                                              \n",
       "  keywords_en                                                                                                     \n",
       "1 rail transportation, table, transportation                                                                      \n",
       "2 rail transportation, table, transportation                                                                      \n",
       "3 rail transportation, table, transportation                                                                      \n",
       "4 rail transportation, table, transportation                                                                      \n",
       "5 hours of work and work arrangements, labour, other content related to hours of work and work arrangements, table\n",
       "6 hours of work and work arrangements, labour, other content related to hours of work and work arrangements, table\n",
       "  keywords                                                                                                        \n",
       "1 rail transportation, table, transportation                                                                      \n",
       "2 rail transportation, table, transportation                                                                      \n",
       "3 rail transportation, table, transportation                                                                      \n",
       "4 rail transportation, table, transportation                                                                      \n",
       "5 hours of work and work arrangements, labour, other content related to hours of work and work arrangements, table\n",
       "6 hours of work and work arrangements, labour, other content related to hours of work and work arrangements, table\n",
       "  keywords_fr                                                                                                     \n",
       "1 rail transportation, table, transportation                                                                      \n",
       "2 rail transportation, table, transportation                                                                      \n",
       "3 rail transportation, table, transportation                                                                      \n",
       "4 rail transportation, table, transportation                                                                      \n",
       "5 hours of work and work arrangements, labour, other content related to hours of work and work arrangements, table\n",
       "6 hours of work and work arrangements, labour, other content related to hours of work and work arrangements, table\n",
       "  notes                                                                                                                                                                                               \n",
       "1 <p>This product presents statistics on the rail performance of 4 companies, by selected commodities, on a weekly basis, starting with the reference period of November 24-30, 2018.</p>             \n",
       "2 <p>This product presents statistics on the rail performance of 4 companies, by type of rail car, on a weekly basis, starting with the reference period of November 24-30, 2018.</p>                 \n",
       "3 <p>This product presents statistics on the rail terminal performance of 4 companies, by selected terminals, on a weekly basis, starting with the reference period of November 24-30, 2018.</p>      \n",
       "4 <p>This product presents statistics on transportation of grain by 4 rail companies, by number of cars and orders, on a weekly basis, starting with the reference period of November 24-30, 2018.</p>\n",
       "5 Number of employed persons by job tenure, North American Industry Classification System (NAICS) and sex, last 5 months.                                                                             \n",
       "6 Number of employed persons by job tenure, North American Industry Classification System (NAICS) and sex, last 5 years.                                                                              \n",
       "  notes_en                                                                                                                                                                                            \n",
       "1 <p>This product presents statistics on the rail performance of 4 companies, by selected commodities, on a weekly basis, starting with the reference period of November 24-30, 2018.</p>             \n",
       "2 <p>This product presents statistics on the rail performance of 4 companies, by type of rail car, on a weekly basis, starting with the reference period of November 24-30, 2018.</p>                 \n",
       "3 <p>This product presents statistics on the rail terminal performance of 4 companies, by selected terminals, on a weekly basis, starting with the reference period of November 24-30, 2018.</p>      \n",
       "4 <p>This product presents statistics on transportation of grain by 4 rail companies, by number of cars and orders, on a weekly basis, starting with the reference period of November 24-30, 2018.</p>\n",
       "5 Number of employed persons by job tenure, North American Industry Classification System (NAICS) and sex, last 5 months.                                                                             \n",
       "6 Number of employed persons by job tenure, North American Industry Classification System (NAICS) and sex, last 5 years.                                                                              \n",
       "  notes_fr                                                                                                                                                                                                                                        \n",
       "1 <p>Ce produit présente des statistiques sur la performance ferroviaire de 4 compagnies, par marchandises sélectionnées, sur une base hebdomadaire, à partir de la période de référence du 24-30 novembre 2018.<br><br></p>                      \n",
       "2 <p>Ce produit présente des statistiques sur la performance ferroviaire de 4 compagnies, par type de wagon, sur une base hebdomadaire, à partir de la période de référence du 24-30 novembre 2018.</p>                                           \n",
       "3 <p>Ce produit présente des statistiques sur la performance des terminaux ferroviaires de 4 compagnies, par terminaux sélectionnés, sur une base hebdomadaire, à partir de la période de référence du 24-30 novembre 2018.<br></p>               \n",
       "4 <p>Ce produit présente des statistiques sur le transport du grain par 4 compagnies ferroviaires, selon le nombre de wagons et le nombre de commandes, sur une base hebdomadaire, à partir de la période de référence du 24-30 novembre 2018.</p>\n",
       "5 Nombre de personnes occupées selon la durée de l'emploi, le Système de classification des industries de l'Amérique du Nord (SCIAN) et le sexe, 5 derniers mois.                                                                                 \n",
       "6 Nombre de personnes occupées selon la durée de l'emploi, le Système de classification des industries de l'Amérique du Nord (SCIAN) et le sexe, 5 dernières années.                                                                              \n",
       "  state  ⋯ date_published      frequency revision_id                         \n",
       "1 active ⋯ 2020-01-10 08:30:00 P1W       5c92f131-71ce-4553-9528-2ea2f60f919f\n",
       "2 active ⋯ 2020-01-10 08:30:00 P1W       07b441d8-c546-48a0-b555-86dbe43e6a06\n",
       "3 active ⋯ 2020-01-10 08:30:00 P1W       be0c4aef-0551-4b8c-85c2-277a689a4fee\n",
       "4 active ⋯ 2020-01-10 08:30:00 P1W       f2d547b9-ad41-4f17-a661-435eb88a1cce\n",
       "5 active ⋯ 2020-01-10 08:30:00 P1M       d86bba28-7be1-41d6-9c8a-2bad5030ec81\n",
       "6 active ⋯ 2020-01-10 08:30:00 P1Y       4f141c08-13a2-4eeb-a453-9d97651f0704\n",
       "  time_period_coverage_start time_period_coverage_end\n",
       "1 NA                         NA                      \n",
       "2 NA                         NA                      \n",
       "3 NA                         NA                      \n",
       "4 NA                         NA                      \n",
       "5 NA                         NA                      \n",
       "6 NA                         NA                      \n",
       "  metadata_created           metadata_modified         \n",
       "1 2018-12-14T18:20:46.242165 2020-01-10T14:02:40.485563\n",
       "2 2018-12-14T18:20:36.330575 2020-01-10T14:02:30.085602\n",
       "3 2018-12-14T18:20:30.885671 2020-01-10T14:02:18.564779\n",
       "4 2018-12-14T18:20:28.502570 2020-01-10T14:02:03.176104\n",
       "5 2018-06-27T16:50:03.076687 2020-01-10T14:01:56.913543\n",
       "6 2018-06-27T17:36:21.613816 2020-01-10T14:01:51.930672\n",
       "  url_en                                                  \n",
       "1 https://www150.statcan.gc.ca/n1/tbl/csv/23100276-eng.zip\n",
       "2 https://www150.statcan.gc.ca/n1/tbl/csv/23100277-eng.zip\n",
       "3 https://www150.statcan.gc.ca/n1/tbl/csv/23100274-eng.zip\n",
       "4 https://www150.statcan.gc.ca/n1/tbl/csv/23100275-eng.zip\n",
       "5 https://www150.statcan.gc.ca/n1/tbl/csv/14100054-eng.zip\n",
       "6 https://www150.statcan.gc.ca/n1/tbl/csv/14100055-eng.zip\n",
       "  url_fr                                                   cansim_table_number\n",
       "1 https://www150.statcan.gc.ca/n1/tbl/csv/23100276-fra.zip 23-10-0276         \n",
       "2 https://www150.statcan.gc.ca/n1/tbl/csv/23100277-fra.zip 23-10-0277         \n",
       "3 https://www150.statcan.gc.ca/n1/tbl/csv/23100274-fra.zip 23-10-0274         \n",
       "4 https://www150.statcan.gc.ca/n1/tbl/csv/23100275-fra.zip 23-10-0275         \n",
       "5 https://www150.statcan.gc.ca/n1/tbl/csv/14100054-fra.zip 14-10-0054         \n",
       "6 https://www150.statcan.gc.ca/n1/tbl/csv/14100055-fra.zip 14-10-0055         "
      ]
     },
     "metadata": {},
     "output_type": "display_data"
    }
   ],
   "source": [
    "head(list_cansim_tables())"
   ]
  },
  {
   "cell_type": "code",
   "execution_count": null,
   "metadata": {},
   "outputs": [],
   "source": []
  }
 ],
 "metadata": {
  "kernelspec": {
   "display_name": "R",
   "language": "R",
   "name": "ir"
  },
  "language_info": {
   "codemirror_mode": "r",
   "file_extension": ".r",
   "mimetype": "text/x-r-source",
   "name": "R",
   "pygments_lexer": "r",
   "version": "3.6.3"
  }
 },
 "nbformat": 4,
 "nbformat_minor": 4
}
