{
 "cells": [
  {
   "cell_type": "markdown",
   "metadata": {},
   "source": [
    "# Summary\n",
    "\n",
    "This example shows basic metadata tracking using Kubeflow Metadata.  This allows for artifacts (datasets, models, metrics) and executions (training runs, deployments) to be browsed in the Lineage Tracker and to allow for better traceability of how models and data relate.  \n",
    "\n",
    "![title](images/artifact_explorer_lineage_explorer.png)\n",
    "\n",
    "More details are available [here](https://www.kubeflow.org/docs/components/metadata/#learn-more-about-the-metadata-sdk).  This notebook is based on [this demo](https://github.com/kubeflow/metadata/blob/master/sdk/python/sample/demo.ipynb)"
   ]
  },
  {
   "cell_type": "markdown",
   "metadata": {},
   "source": [
    "Note: If you get errors like `ModuleNotFoundError: No module named 'tensorflow_core.estimator'`, try this in a terminal and then restart your notebook:\n",
    "```\n",
    "pip uninstall kubeflow-metadata tensorflow-estimator\n",
    "pip install tensorflow-estimator==2.3.0 kubeflow-metadata\n",
    "```"
   ]
  },
  {
   "cell_type": "code",
   "execution_count": 1,
   "metadata": {
    "execution": {
     "iopub.execute_input": "2020-08-31T11:28:13.067505Z",
     "iopub.status.busy": "2020-08-31T11:28:13.067233Z",
     "iopub.status.idle": "2020-08-31T11:28:13.158682Z",
     "shell.execute_reply": "2020-08-31T11:28:13.157975Z",
     "shell.execute_reply.started": "2020-08-31T11:28:13.067476Z"
    }
   },
   "outputs": [],
   "source": [
    "import pandas\n",
    "from kubeflow.metadata import metadata\n",
    "from datetime import datetime\n",
    "from uuid import uuid4"
   ]
  },
  {
   "cell_type": "markdown",
   "metadata": {
    "tags": [
     "test"
    ]
   },
   "source": [
    "# Settings"
   ]
  },
  {
   "cell_type": "markdown",
   "metadata": {},
   "source": [
    "(you do not need to change these)"
   ]
  },
  {
   "cell_type": "code",
   "execution_count": 2,
   "metadata": {
    "execution": {
     "iopub.execute_input": "2020-08-31T11:28:14.165493Z",
     "iopub.status.busy": "2020-08-31T11:28:14.164733Z",
     "iopub.status.idle": "2020-08-31T11:28:14.169332Z",
     "shell.execute_reply": "2020-08-31T11:28:14.168506Z",
     "shell.execute_reply.started": "2020-08-31T11:28:14.165453Z"
    }
   },
   "outputs": [],
   "source": [
    "# TODO: Should we include this in all environments as an environment variable?\n",
    "# (these are defaults of Kubeflow Metadata gRPC serivce)\n",
    "METADATA_STORE_HOST = \"metadata-grpc-service.kubeflow\"\n",
    "METADATA_STORE_PORT = 8080"
   ]
  },
  {
   "cell_type": "markdown",
   "metadata": {},
   "source": [
    "# Storing metadata in kubeflow.metadata"
   ]
  },
  {
   "cell_type": "markdown",
   "metadata": {},
   "source": [
    "Kubeflow Metadata works around [these five key objects](https://www.kubeflow.org/docs/components/metadata/#learn-more-about-the-metadata-sdk), three describing data and two describing contexts:\n",
    "\n",
    "* Data\n",
    "    * DataSet to capture metadata for a dataset that forms the input into or the output of a component in your workflow\n",
    "    * Metrics to capture metadata for the metrics used to evaluate an ML model\n",
    "    * Model to capture metadata for an ML model that your workflow produces\n",
    "\n",
    "* Context\n",
    "    * Execution to capture metadata for an execution (run) of your ML workflow, which might use or produce one or more Data objects\n",
    "    * Workspace to group many objects related to a specific task\n",
    "    \n",
    "For example, a ML training `Execution` might be run using two input `DataSet`s (say ds_train and ds_validate) and produce a `Model` (model), some scoring `Metric`s, and a `DataSet` of results for the validation data.  A second deployment `Execution` might then be run using an input `Dataset` (ds_test) and the previous `Model`, producing some deployment `Metric`s (execution time, score on ds_test, etc.).  Both of these might be part of the same train-and-deploy-myModel `Workspace`.  Samples of how to achieve this are shown below.\n",
    "\n",
    "Behind the scenes, kubeflow.metadata takes advantage of [ml-metadata](https://www.tensorflow.org/tfx/guide/mlmd) (mlmd), a generic implementation of a metadata store.  kubeflow.metadata classes wrap mlmd for convenience and to apply some conventions (for example, defining a `type` for each artifact type, like `kubeflow.org/alpha/data_set` for `DataSet`).  As seen below, sometimes we need to interact directly with the mlmd store when kubeflow.metadata does not offer convenience functions for what we want to do.  \n",
    "\n",
    "kubeflow.metadata uses the `Workspace` object as its manager of the mlmd store, so we generally interact with the store through a `Workspace`"
   ]
  },
  {
   "cell_type": "markdown",
   "metadata": {},
   "source": [
    "## Create a workspace"
   ]
  },
  {
   "cell_type": "code",
   "execution_count": 3,
   "metadata": {
    "execution": {
     "iopub.execute_input": "2020-08-31T11:28:15.435185Z",
     "iopub.status.busy": "2020-08-31T11:28:15.434915Z",
     "iopub.status.idle": "2020-08-31T11:28:15.452468Z",
     "shell.execute_reply": "2020-08-31T11:28:15.451690Z",
     "shell.execute_reply.started": "2020-08-31T11:28:15.435157Z"
    }
   },
   "outputs": [],
   "source": [
    "# Note this will by default either return an existing workspace of this name,\n",
    "# or create a new one if it does not exist\n",
    "ws = metadata.Workspace(\n",
    "    store=metadata.Store(grpc_host=METADATA_STORE_HOST,\n",
    "                         grpc_port=METADATA_STORE_PORT),\n",
    "    name=\"kubeflow-metadata-demo-workspace\",\n",
    "    description=\"a workspace for testing and demos\",\n",
    ")"
   ]
  },
  {
   "cell_type": "markdown",
   "metadata": {},
   "source": [
    "## Create a run in a workspace\n",
    "\n",
    "(these are optional and entirely sure what they're needed for.  Seems to be an additional sub context we can use within workspaces for more organization?)"
   ]
  },
  {
   "cell_type": "code",
   "execution_count": 4,
   "metadata": {
    "execution": {
     "iopub.execute_input": "2020-08-31T11:28:16.057005Z",
     "iopub.status.busy": "2020-08-31T11:28:16.056545Z",
     "iopub.status.idle": "2020-08-31T11:28:16.061580Z",
     "shell.execute_reply": "2020-08-31T11:28:16.060623Z",
     "shell.execute_reply.started": "2020-08-31T11:28:16.056973Z"
    }
   },
   "outputs": [],
   "source": [
    "r = metadata.Run(\n",
    "    workspace=ws,\n",
    "    name=\"run-\" + datetime.utcnow().isoformat(\"T\"),\n",
    "    description=\"a run in our test workspace\",\n",
    ")"
   ]
  },
  {
   "cell_type": "markdown",
   "metadata": {},
   "source": [
    "## Create an execution in a run\n",
    "\n",
    "Unlike Workspaces, executions created like this will always be unique, even if they have the same name.  Try creating one twice here (but make sure to use the same name twice, don't just rerun this block as the timestamp in the name will change)"
   ]
  },
  {
   "cell_type": "code",
   "execution_count": 5,
   "metadata": {
    "execution": {
     "iopub.execute_input": "2020-08-31T11:28:16.698344Z",
     "iopub.status.busy": "2020-08-31T11:28:16.698082Z",
     "iopub.status.idle": "2020-08-31T11:28:16.735618Z",
     "shell.execute_reply": "2020-08-31T11:28:16.734540Z",
     "shell.execute_reply.started": "2020-08-31T11:28:16.698316Z"
    }
   },
   "outputs": [
    {
     "name": "stdout",
     "output_type": "stream",
     "text": [
      "An execution execution-training-2020-08-31T11:28:16.700096 was created with id 83\n"
     ]
    }
   ],
   "source": [
    "name = \"execution-training-\" + datetime.utcnow().isoformat(\"T\")\n",
    "ex = metadata.Execution(\n",
    "    name=name,\n",
    "    workspace=ws,\n",
    "    run=r,  # Optional\n",
    "    description=\"an example training execution\"\n",
    ")\n",
    "print(f\"An execution {ex.name} was created with id {ex.id}\")"
   ]
  },
  {
   "cell_type": "markdown",
   "metadata": {},
   "source": [
    "# Create a DataSet and log it to an Execution\n",
    "\n",
    "The kubeflow.metadata wrappers provide some convenience functionality around committing and reusuing `DataSet`s.  To log a `DataSet`, we instantiate a `metadata.DataSet` object, and then `log()` it to a `Workspace`.  The `log` functions check if this `DataSet` already exists in the store before committing, returning the existing `DataSet` if it exists otherwise returning the newly committed `DataSet`.  `DataSet`s are keyed by (`name`, `uri`, `version`) - if all three match another object in the store, we reuse that object.  This lets us use the same `DataSet` for multiple executions and track lineage.\n",
    "\n",
    "Note that a fresh `metadata.DataSet` does not have an `id` until it has been `log`ged into the `Workspace.store`"
   ]
  },
  {
   "cell_type": "code",
   "execution_count": 6,
   "metadata": {
    "execution": {
     "iopub.execute_input": "2020-08-31T11:28:17.407518Z",
     "iopub.status.busy": "2020-08-31T11:28:17.407232Z",
     "iopub.status.idle": "2020-08-31T11:28:17.415472Z",
     "shell.execute_reply": "2020-08-31T11:28:17.414706Z",
     "shell.execute_reply.started": "2020-08-31T11:28:17.407478Z"
    }
   },
   "outputs": [
    {
     "name": "stdout",
     "output_type": "stream",
     "text": [
      "DataSet my-input-data with id None\n"
     ]
    }
   ],
   "source": [
    "ds_input = metadata.DataSet(\n",
    "    description=\"example input data\",\n",
    "    name=\"my-input-data\",\n",
    "    uri=\"my-minio-path/to-my/data.csv\",\n",
    "    version=\"12345.67890\",  # This could be a hash of the data, ensuring data\n",
    "                            # is exactly as expected\n",
    "    query=\"SELECT * from data\",  # Optional documentation of query\n",
    ")\n",
    "print(f\"DataSet {ds_input.name} with id {ds_input.id}\")"
   ]
  },
  {
   "cell_type": "code",
   "execution_count": 7,
   "metadata": {
    "execution": {
     "iopub.execute_input": "2020-08-31T11:28:17.830512Z",
     "iopub.status.busy": "2020-08-31T11:28:17.830247Z",
     "iopub.status.idle": "2020-08-31T11:28:17.852755Z",
     "shell.execute_reply": "2020-08-31T11:28:17.851927Z",
     "shell.execute_reply.started": "2020-08-31T11:28:17.830488Z"
    }
   },
   "outputs": [
    {
     "name": "stdout",
     "output_type": "stream",
     "text": [
      "(via ds_input): DataSet my-input-data with id 125\n",
      "(via ds_returned): DataSet my-input-data with id 125\n"
     ]
    }
   ],
   "source": [
    "ds_returned = ex.log_input(ds_input)\n",
    "print(f\"(via ds_input): DataSet {ds_input.name} with id {ds_input.id}\")\n",
    "print(f\"(via ds_returned): DataSet {ds_returned.name} with id {ds_returned.id}\")"
   ]
  },
  {
   "cell_type": "markdown",
   "metadata": {},
   "source": [
    "If we create a new DataSet with the same details as above and log it to `ex` (or any other object), we will reuse the existing DataSet (as seen by the ID)"
   ]
  },
  {
   "cell_type": "code",
   "execution_count": 8,
   "metadata": {
    "execution": {
     "iopub.execute_input": "2020-08-31T11:28:18.556136Z",
     "iopub.status.busy": "2020-08-31T11:28:18.555878Z",
     "iopub.status.idle": "2020-08-31T11:28:18.580287Z",
     "shell.execute_reply": "2020-08-31T11:28:18.579388Z",
     "shell.execute_reply.started": "2020-08-31T11:28:18.556109Z"
    }
   },
   "outputs": [
    {
     "name": "stdout",
     "output_type": "stream",
     "text": [
      "(before .log_input()): DataSet my-input-data with id  None\n",
      "(after .log_input()):  DataSet my-input-data with id  125\n"
     ]
    }
   ],
   "source": [
    "ds_input_duplicated = metadata.DataSet(\n",
    "    name=\"my-input-data\",\n",
    "    description=\"this_changed_but_doesn't_matter_for_duplication\",\n",
    "    uri=\"my-minio-path/to-my/data.csv\",\n",
    "    version=\"12345.67890\",\n",
    "    query=\"this_changed_but_doesn't_matter_for_duplication\",\n",
    ")\n",
    "print(f\"(before .log_input()): DataSet {ds_input_duplicated.name} with id \"\n",
    "      f\" {ds_input_duplicated.id}\")\n",
    "ds_returned = ex.log_input(ds_input_duplicated)\n",
    "print(f\"(after .log_input()):  DataSet {ds_input_duplicated.name} with id \"\n",
    "      f\" {ds_input_duplicated.id}\")"
   ]
  },
  {
   "cell_type": "markdown",
   "metadata": {},
   "source": [
    "TODO: while we are reusing the same `DataSet` when logging, it might still be linking the dataset multiple times to the `Execution` (in the Kubeflow Artifacts UI we can see multiple associations between the same `DataSet` and `Execution`.  Maybe a bug?  This is only a problem if we have a possibility of logging the same `DataSet` to the same `Execution` multiple times though - easy to do in our example here, but not common in practice since each `Execution` is probably a pipeline run or training event. "
   ]
  },
  {
   "cell_type": "markdown",
   "metadata": {},
   "source": [
    "## Log a model as output\n",
    "\n",
    "`Model`s are logged similar to `DataSet`s.  `Model`s also have the same logic for duplication - logging a model with the same (`uri`, `name`, `version`) as another in the store will **reuse** the existing model rather than create a new one.  `Model` objects have additional optional metadata that can be stored on them, such as model_type or hyperparameter values"
   ]
  },
  {
   "cell_type": "code",
   "execution_count": 9,
   "metadata": {
    "execution": {
     "iopub.execute_input": "2020-08-31T11:28:19.604698Z",
     "iopub.status.busy": "2020-08-31T11:28:19.604440Z",
     "iopub.status.idle": "2020-08-31T11:28:19.664331Z",
     "shell.execute_reply": "2020-08-31T11:28:19.663555Z",
     "shell.execute_reply.started": "2020-08-31T11:28:19.604670Z"
    }
   },
   "outputs": [
    {
     "name": "stdout",
     "output_type": "stream",
     "text": [
      "(before .log_output()): Model myModel with id None\n",
      "(after .log_output()):  Model myModel with id 131\n"
     ]
    }
   ],
   "source": [
    "# uuid4 just gives us a unique model version.  This could be a kubeflow\n",
    "# pipeline run_id, a timestamp (if you know it will be unique), etc\n",
    "model_version = \"model_version_\" + str(uuid4())\n",
    "model = metadata.Model(\n",
    "    name=\"myModel\",\n",
    "    uri=\"minio/path/to/my/model.pkl.gz\",\n",
    "    version=model_version,\n",
    "    description=\"a sample model\",\n",
    "    model_type=\"neural network\",\n",
    "    training_framework={\n",
    "        \"name\": \"tensorflow\",\n",
    "        \"version\": \"v1.0\",\n",
    "    },\n",
    "    hyperparameters={\n",
    "        \"learning_rate\": 0.5,\n",
    "        \"layers\": [10, 3, 1],\n",
    "        \"early_stop\": True,\n",
    "    },\n",
    ")\n",
    "print(f\"(before .log_output()): Model {model.name} with id {model.id}\")\n",
    "model = ex.log_output(model)\n",
    "print(f\"(after .log_output()):  Model {model.name} with id {model.id}\")"
   ]
  },
  {
   "cell_type": "markdown",
   "metadata": {},
   "source": [
    "## Log metrics as output"
   ]
  },
  {
   "cell_type": "code",
   "execution_count": 10,
   "metadata": {
    "execution": {
     "iopub.execute_input": "2020-08-31T11:28:20.327102Z",
     "iopub.status.busy": "2020-08-31T11:28:20.326796Z",
     "iopub.status.idle": "2020-08-31T11:28:20.352663Z",
     "shell.execute_reply": "2020-08-31T11:28:20.351624Z",
     "shell.execute_reply.started": "2020-08-31T11:28:20.327064Z"
    }
   },
   "outputs": [
    {
     "name": "stdout",
     "output_type": "stream",
     "text": [
      "DataSet my-input-scoring-data with id 129\n"
     ]
    }
   ],
   "source": [
    "ds_scoring = metadata.DataSet(\n",
    "    name=\"my-input-scoring-data\",\n",
    "    description=\"example scoring data\",\n",
    "    uri=\"my-minio-path/to-my/scoring-data.csv\",\n",
    "    version=\"12345.67890\",  # This could be a hash of the data, ensuring data\n",
    "                            # is exactly as expected\n",
    "    query=\"SELECT * from scoring_data\",  # Optional documentation of query\n",
    ")\n",
    "\n",
    "# Commit the DataSet to the execution that created the metrics so it gets an\n",
    "# `id` in the database\n",
    "ex.log_input(ds_scoring)\n",
    "\n",
    "print(f\"DataSet {ds_scoring.name} with id {ds_scoring.id}\")"
   ]
  },
  {
   "cell_type": "markdown",
   "metadata": {},
   "source": [
    "Commit the dataset to the run that created the metrics so that it gets an `id` in the database"
   ]
  },
  {
   "cell_type": "code",
   "execution_count": 17,
   "metadata": {
    "execution": {
     "iopub.execute_input": "2020-08-31T11:29:52.371867Z",
     "iopub.status.busy": "2020-08-31T11:29:52.371581Z",
     "iopub.status.idle": "2020-08-31T11:29:52.376749Z",
     "shell.execute_reply": "2020-08-31T11:29:52.376079Z",
     "shell.execute_reply.started": "2020-08-31T11:29:52.371837Z"
    }
   },
   "outputs": [],
   "source": [
    "metrics_values = {\n",
    "    'f1': 0.85,\n",
    "    'accuracy': 0.91,\n",
    "}\n",
    "metrics = metadata.Metrics(\n",
    "    name=\"myModel-metrics\",\n",
    "    uri=\"minio/path/to/my/metrics.yaml\",\n",
    "    data_set_id=123, #str(ds_scoring.id),  # Link the data for later recovery\n",
    "    model_id=str(model.id),  # Note that IDs must be str\n",
    "    metrics_type=metadata.Metrics.TESTING,\n",
    "    value=metrics_values,\n",
    ")"
   ]
  },
  {
   "cell_type": "markdown",
   "metadata": {},
   "source": [
    "If you get a ModuleNo"
   ]
  },
  {
   "cell_type": "code",
   "execution_count": 18,
   "metadata": {
    "execution": {
     "iopub.execute_input": "2020-08-31T11:29:52.568593Z",
     "iopub.status.busy": "2020-08-31T11:29:52.568322Z",
     "iopub.status.idle": "2020-08-31T11:29:52.584395Z",
     "shell.execute_reply": "2020-08-31T11:29:52.583371Z",
     "shell.execute_reply.started": "2020-08-31T11:29:52.568565Z"
    }
   },
   "outputs": [
    {
     "name": "stderr",
     "output_type": "stream",
     "text": [
      "ERROR:root:Internal Python error in the inspect module.\n",
      "Below is the traceback from this internal error.\n",
      "\n"
     ]
    },
    {
     "name": "stdout",
     "output_type": "stream",
     "text": [
      "Traceback (most recent call last):\n",
      "  File \"/opt/conda/lib/python3.7/site-packages/IPython/core/interactiveshell.py\", line 3331, in run_code\n",
      "    exec(code_obj, self.user_global_ns, self.user_ns)\n",
      "  File \"<ipython-input-18-544a9e7e549e>\", line 1, in <module>\n",
      "    ex.log_output(metrics)\n",
      "  File \"/opt/conda/lib/python3.7/site-packages/kubeflow/metadata/metadata.py\", line 348, in log_output\n",
      "    self._log(artifact)\n",
      "  File \"/opt/conda/lib/python3.7/site-packages/kubeflow/metadata/metadata.py\", line 373, in _log\n",
      "    ser = artifact.serialization()\n",
      "  File \"/opt/conda/lib/python3.7/site-packages/kubeflow/metadata/metadata.py\", line 741, in serialization\n",
      "    mlpb.Value(string_value=self.data_set_id),\n",
      "TypeError: 123 has type int, but expected one of: bytes, unicode\n",
      "\n",
      "During handling of the above exception, another exception occurred:\n",
      "\n",
      "Traceback (most recent call last):\n",
      "  File \"/opt/conda/lib/python3.7/site-packages/IPython/core/interactiveshell.py\", line 2044, in showtraceback\n",
      "    stb = value._render_traceback_()\n",
      "AttributeError: 'TypeError' object has no attribute '_render_traceback_'\n",
      "\n",
      "During handling of the above exception, another exception occurred:\n",
      "\n",
      "Traceback (most recent call last):\n",
      "  File \"/opt/conda/lib/python3.7/site-packages/IPython/core/ultratb.py\", line 1148, in get_records\n",
      "    return _fixed_getinnerframes(etb, number_of_lines_of_context, tb_offset)\n",
      "  File \"/opt/conda/lib/python3.7/site-packages/IPython/core/ultratb.py\", line 316, in wrapped\n",
      "    return f(*args, **kwargs)\n",
      "  File \"/opt/conda/lib/python3.7/site-packages/IPython/core/ultratb.py\", line 350, in _fixed_getinnerframes\n",
      "    records = fix_frame_records_filenames(inspect.getinnerframes(etb, context))\n",
      "  File \"/opt/conda/lib/python3.7/inspect.py\", line 1502, in getinnerframes\n",
      "    frameinfo = (tb.tb_frame,) + getframeinfo(tb, context)\n",
      "  File \"/opt/conda/lib/python3.7/inspect.py\", line 1460, in getframeinfo\n",
      "    filename = getsourcefile(frame) or getfile(frame)\n",
      "  File \"/opt/conda/lib/python3.7/inspect.py\", line 696, in getsourcefile\n",
      "    if getattr(getmodule(object, filename), '__loader__', None) is not None:\n",
      "  File \"/opt/conda/lib/python3.7/inspect.py\", line 733, in getmodule\n",
      "    if ismodule(module) and hasattr(module, '__file__'):\n",
      "  File \"/opt/conda/lib/python3.7/site-packages/tensorflow/__init__.py\", line 50, in __getattr__\n",
      "    module = self._load()\n",
      "  File \"/opt/conda/lib/python3.7/site-packages/tensorflow/__init__.py\", line 44, in _load\n",
      "    module = _importlib.import_module(self.__name__)\n",
      "  File \"/opt/conda/lib/python3.7/importlib/__init__.py\", line 127, in import_module\n",
      "    return _bootstrap._gcd_import(name[level:], package, level)\n",
      "  File \"<frozen importlib._bootstrap>\", line 1006, in _gcd_import\n",
      "  File \"<frozen importlib._bootstrap>\", line 983, in _find_and_load\n",
      "  File \"<frozen importlib._bootstrap>\", line 965, in _find_and_load_unlocked\n",
      "ModuleNotFoundError: No module named 'tensorflow_core.estimator'\n"
     ]
    },
    {
     "ename": "TypeError",
     "evalue": "123 has type int, but expected one of: bytes, unicode",
     "output_type": "error",
     "traceback": [
      "\u001b[0;31m---------------------------------------------------------------------------\u001b[0m"
     ]
    }
   ],
   "source": [
    "ex.log_output(metrics)"
   ]
  },
  {
   "cell_type": "markdown",
   "metadata": {},
   "source": [
    "### Add Metadata for serving the model"
   ]
  },
  {
   "cell_type": "markdown",
   "metadata": {},
   "source": [
    "This is an example of how you could later make an execution for serving, and refer to an existing model that's already in the metadata."
   ]
  },
  {
   "cell_type": "code",
   "execution_count": 13,
   "metadata": {
    "execution": {
     "iopub.execute_input": "2020-08-31T11:28:32.800965Z",
     "iopub.status.busy": "2020-08-31T11:28:32.800686Z",
     "iopub.status.idle": "2020-08-31T11:28:32.858929Z",
     "shell.execute_reply": "2020-08-31T11:28:32.857993Z",
     "shell.execute_reply.started": "2020-08-31T11:28:32.800936Z"
    }
   },
   "outputs": [
    {
     "name": "stdout",
     "output_type": "stream",
     "text": [
      "Found the model with id 131 and version 'model_version_83f55dfb-1275-446d-8168-77ece8ceb2e5'.\n"
     ]
    }
   ],
   "source": [
    "serving_application = metadata.Execution(\n",
    "    name=\"serving model\",\n",
    "    workspace=ws,\n",
    "    description=\"an execution to represent model serving component\",\n",
    ")\n",
    "# Noticed we use model name, version, uri to uniquely identify existing model.\n",
    "served_model = metadata.Model(\n",
    "    name=\"myModel\",\n",
    "    uri=\"minio/path/to/my/model.pkl.gz\",\n",
    "    version=model.version,  # Reusing the model version from above\n",
    ")\n",
    "m = serving_application.log_input(served_model)\n",
    "print(\"Found the model with id {0.id} and version '{0.version}'.\".format(m))"
   ]
  },
  {
   "cell_type": "markdown",
   "metadata": {},
   "source": [
    "# Lineage tracking"
   ]
  },
  {
   "cell_type": "markdown",
   "metadata": {},
   "source": [
    "## By UI"
   ]
  },
  {
   "cell_type": "markdown",
   "metadata": {},
   "source": [
    "Now that we've logged some artifacts and executions into the store, go to the [Artifacts](https://kubeflow.covid.cloud.statcan.ca/_/pipeline/#/artifacts) or [Executions](https://kubeflow.covid.cloud.statcan.ca/_/pipeline/#/executions) UI's and check them out.  From there you can see all the \n",
    "\n",
    "TODO: `Execution`s created by kubeflow.metadata don't show up well in the Execution page.  See [this issue](https://github.com/StatCan/daaas/issues/215) for details.  They're still accessible via the Lineage Explorer or API"
   ]
  },
  {
   "cell_type": "markdown",
   "metadata": {},
   "source": [
    "## By API"
   ]
  },
  {
   "cell_type": "markdown",
   "metadata": {},
   "source": [
    "An example of accessing metadata by API is shown below.  This requires us to interact directly with the `mlmd.Store` object.  Note that this `Store` has other access methods, such as `get_artifacts_by_context()`, etc. \n",
    "\n",
    "TODO: Build convenience functions to make this more direct?"
   ]
  },
  {
   "cell_type": "markdown",
   "metadata": {},
   "source": [
    "Find all executions (eg: trainings or deployments) that use a given model"
   ]
  },
  {
   "cell_type": "code",
   "execution_count": null,
   "metadata": {
    "execution": {
     "iopub.status.busy": "2020-08-31T11:25:42.752659Z",
     "iopub.status.idle": "2020-08-31T11:25:42.753347Z"
    }
   },
   "outputs": [],
   "source": [
    "print(\"Find Model id is %s\\n\" % model.id)\n",
    "model_events = ws.store.get_events_by_artifact_ids([model.id])\n",
    "\n",
    "execution_ids = set(e.execution_id for e in model_events)\n",
    "print(\"All executions related to the model are {}\".format(execution_ids))"
   ]
  },
  {
   "cell_type": "markdown",
   "metadata": {},
   "source": [
    "Find all artifacts associated with a particular training event"
   ]
  },
  {
   "cell_type": "code",
   "execution_count": null,
   "metadata": {
    "execution": {
     "iopub.status.busy": "2020-08-31T11:25:42.754586Z",
     "iopub.status.idle": "2020-08-31T11:25:42.755043Z"
    }
   },
   "outputs": [],
   "source": [
    "trainer_events = ws.store.get_events_by_execution_ids([ex.id])\n",
    "artifact_ids = set(e.artifact_id for e in trainer_events)\n",
    "print(f\"All artifacts related to the training event are {artifact_ids}\")"
   ]
  }
 ],
 "metadata": {
  "kernelspec": {
   "display_name": "Python 3",
   "language": "python",
   "name": "python3"
  },
  "language_info": {
   "codemirror_mode": {
    "name": "ipython",
    "version": 3
   },
   "file_extension": ".py",
   "mimetype": "text/x-python",
   "name": "python",
   "nbconvert_exporter": "python",
   "pygments_lexer": "ipython3",
   "version": "3.7.6"
  },
  "toc-autonumbering": false,
  "toc-showcode": false,
  "toc-showmarkdowntxt": false,
  "toc-showtags": false
 },
 "nbformat": 4,
 "nbformat_minor": 4
}
