{
 "cells": [
  {
   "cell_type": "markdown",
   "metadata": {},
   "source": [
    "# Before you begin\n",
    "\n",
    "For this code to work, you need to have set the option to add Minio credentials when you started the server\n",
    "\n",
    "![Minio Credentials Option](kubeflow-minio-option.png)\n",
    "\n",
    "# Upload and download files from Bucket Storage!\n",
    "\n",
    "Many of these examples are straight from the Minio Python SDK.\n",
    "\n",
    "The difference is that instead of creating your own MinioClient object,\n",
    "you can just and run\n",
    "\n",
    "```python\n",
    "import daaas_storage\n",
    "minio_client = daaas_storage.get_minimal_client()\n",
    "```\n",
    "\n",
    "Then you proceed as in the examples!"
   ]
  },
  {
   "cell_type": "markdown",
   "metadata": {},
   "source": [
    "## Get connected"
   ]
  },
  {
   "cell_type": "code",
   "execution_count": null,
   "metadata": {},
   "outputs": [],
   "source": [
    "import daaas_storage\n",
    "import os\n",
    "#minio_client = daaas_storage.get_minimal_client()\n",
    "minio_client = daaas_storage.get_premium_client()\n",
    "#minio_client = daaas_storage.get_pachyderm_client()"
   ]
  },
  {
   "cell_type": "markdown",
   "metadata": {},
   "source": [
    "## Create your bucket"
   ]
  },
  {
   "cell_type": "code",
   "execution_count": null,
   "metadata": {},
   "outputs": [],
   "source": [
    "# Your bucket goes here.\n",
    "BUCKET = 'blair-drummond'"
   ]
  },
  {
   "cell_type": "code",
   "execution_count": null,
   "metadata": {},
   "outputs": [],
   "source": [
    "if not minio_client.bucket_exists(BUCKET):\n",
    "    # ignore the location. It's a dummy value. But you do need it.\n",
    "    minio_client.make_bucket(BUCKET, location=\"us-west-1\")\n",
    "else:\n",
    "    print(\"Your bucket already exists.\")"
   ]
  },
  {
   "cell_type": "markdown",
   "metadata": {},
   "source": [
    "## Upload a file"
   ]
  },
  {
   "cell_type": "code",
   "execution_count": null,
   "metadata": {},
   "outputs": [],
   "source": [
    "from progress import Progress\n",
    "from minio.error import ResponseError\n",
    "\n",
    "FILE='example.txt'\n",
    "\n",
    "# Notice that it is \"in a folder\", but we didn't make a folder\n",
    "# That's because object storage doesn't have folders. You, just\n",
    "# put a slash in the name to \"see a folder\" in the GUI\n",
    "NEW_FILE_NAME='examples/Happy-DAaaS-Bird.txt'\n",
    "\n",
    "# Upload a file with progress.\n",
    "progress = Progress()\n",
    "try:\n",
    "    with open(FILE, 'rb') as file_data:\n",
    "        file_stat = os.stat(FILE)\n",
    "        minio_client.put_object(\n",
    "            BUCKET, \n",
    "            NEW_FILE_NAME,\n",
    "            file_data,\n",
    "            file_stat.st_size, \n",
    "            progress=progress\n",
    "        )\n",
    "except ResponseError as err:\n",
    "    print(err)"
   ]
  },
  {
   "cell_type": "markdown",
   "metadata": {},
   "source": [
    "## List Objects"
   ]
  },
  {
   "cell_type": "code",
   "execution_count": null,
   "metadata": {},
   "outputs": [],
   "source": [
    "# List all object paths in bucket that begin with my-prefixname.\n",
    "# Prefixes are basically how you select folders.\n",
    "objects = minio_client.list_objects(\n",
    "    BUCKET, \n",
    "    prefix='examples/',\n",
    "    recursive=True\n",
    ")\n",
    "\n",
    "for obj in objects:\n",
    "    print(obj.bucket_name, obj.object_name.encode('utf-8'), obj.last_modified,\n",
    "          obj.etag, obj.size, obj.content_type)"
   ]
  },
  {
   "cell_type": "markdown",
   "metadata": {},
   "source": [
    "## Download a file"
   ]
  },
  {
   "cell_type": "code",
   "execution_count": null,
   "metadata": {},
   "outputs": [],
   "source": [
    "# Get a full object\n",
    "try:\n",
    "    data = minio_client.get_object(BUCKET, NEW_FILE_NAME)\n",
    "    with open(\"downloaded_file.txt\", 'wb') as file_data:\n",
    "        for d in data.stream(32*1024):\n",
    "            file_data.write(d)\n",
    "except ResponseError as err:\n",
    "    print(err)"
   ]
  },
  {
   "cell_type": "markdown",
   "metadata": {},
   "source": [
    "# That's it!\n",
    "\n",
    "You've seen how to upload, list, and download files.\n",
    "You can do more things! For more advanced usage, check out\n",
    "\n",
    "https://github.com/minio/minio-py\n",
    "\n",
    "And don't forget that you can also do this all on the commandline with `mc`"
   ]
  },
  {
   "cell_type": "code",
   "execution_count": null,
   "metadata": {},
   "outputs": [],
   "source": []
  }
 ],
 "metadata": {
  "kernelspec": {
   "display_name": "Python 3",
   "language": "python",
   "name": "python3"
  },
  "language_info": {
   "codemirror_mode": {
    "name": "ipython",
    "version": 3
   },
   "file_extension": ".py",
   "mimetype": "text/x-python",
   "name": "python",
   "nbconvert_exporter": "python",
   "pygments_lexer": "ipython3",
   "version": "3.7.6"
  }
 },
 "nbformat": 4,
 "nbformat_minor": 4
}
