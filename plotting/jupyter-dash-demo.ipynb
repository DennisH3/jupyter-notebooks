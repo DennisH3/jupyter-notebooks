{
 "cells": [
  {
   "cell_type": "markdown",
   "metadata": {},
   "source": [
    "# Application of Jupyter Dash\n",
    "Summary taken from [jupyter-dash readme](https://github.com/plotly/jupyter-dash)\n",
    "\n",
    "This library makes it easy to develop Plotly Dash apps interactively from within Jupyter environments (e.g. classic Notebook, JupyterLab, Visual Studio Code notebooks, nteract, PyCharm notebooks, etc.).\n",
    "# Example\n",
    "Example is taken from their medium article [Introducing JupyterDash](https://medium.com/plotly/introducing-jupyterdash-811f1f57c02e)"
   ]
  },
  {
   "cell_type": "code",
   "execution_count": 1,
   "metadata": {
    "execution": {
     "iopub.execute_input": "2020-10-06T13:40:31.347546Z",
     "iopub.status.busy": "2020-10-06T13:40:31.347399Z",
     "iopub.status.idle": "2020-10-06T13:40:32.470262Z",
     "shell.execute_reply": "2020-10-06T13:40:32.469601Z",
     "shell.execute_reply.started": "2020-10-06T13:40:31.347530Z"
    }
   },
   "outputs": [],
   "source": [
    "from jupyter_dash import JupyterDash\n",
    "import dash\n",
    "import dash_core_components as component\n",
    "import dash_html_components as html\n",
    "import plotly.express as px\n",
    "from dash.dependencies import Input, Output# Load Data\n",
    "import dash_core_components as dcc\n",
    "from jupyter_dash.comms import _send_jupyter_config_comm_request\n",
    "_send_jupyter_config_comm_request() "
   ]
  },
  {
   "cell_type": "markdown",
   "metadata": {},
   "source": [
    "The next line **must** be ran in its own cell"
   ]
  },
  {
   "cell_type": "code",
   "execution_count": null,
   "metadata": {
    "execution": {
     "iopub.execute_input": "2020-10-06T13:40:32.470988Z",
     "iopub.status.busy": "2020-10-06T13:40:32.470866Z"
    }
   },
   "outputs": [],
   "source": [
    "JupyterDash.infer_jupyter_proxy_config()"
   ]
  },
  {
   "cell_type": "code",
   "execution_count": 3,
   "metadata": {
    "execution": {
     "iopub.execute_input": "2020-10-06T13:40:32.491551Z",
     "iopub.status.busy": "2020-10-06T13:40:32.472331Z",
     "iopub.status.idle": "2020-10-06T13:40:32.478784Z",
     "shell.execute_reply": "2020-10-06T13:40:32.787731Z",
     "shell.execute_reply.started": "2020-10-06T13:40:32.491510Z"
    }
   },
   "outputs": [
    {
     "name": "stderr",
     "output_type": "stream",
     "text": [
      " * Running on http://127.0.0.1:8889/ (Press CTRL+C to quit)\n",
      "127.0.0.1 - - [06/Oct/2020 13:40:32] \"\u001b[37mGET /_alive_bf564f51-f6e3-44fb-8715-c620e84d9c8c HTTP/1.1\u001b[0m\" 200 -\n"
     ]
    }
   ],
   "source": [
    "df = px.data.tips()# Build App\n",
    "app = JupyterDash(__name__)\n",
    "app.layout = html.Div([\n",
    "    html.H1(\"JupyterDash Demo\"),\n",
    "    dcc.Graph(id='graph'),\n",
    "    html.Label([\n",
    "        \"colorscale\",\n",
    "        dcc.Dropdown(\n",
    "            id='colorscale-dropdown', clearable=False,\n",
    "            value='plasma', options=[\n",
    "                {'label': c, 'value': c}\n",
    "                for c in px.colors.named_colorscales()\n",
    "            ])\n",
    "    ]),\n",
    "])# Define callback to update graph\n",
    "@app.callback(\n",
    "    Output('graph', 'figure'),\n",
    "    [Input(\"colorscale-dropdown\", \"value\")]\n",
    ")\n",
    "def update_figure(colorscale):\n",
    "    return px.scatter(\n",
    "        df, x=\"total_bill\", y=\"tip\", color=\"size\",\n",
    "        color_continuous_scale=colorscale,\n",
    "        render_mode=\"webgl\", title=\"Tips\"\n",
    "    )\n",
    "\n",
    "app.run_server(mode=\"jupyterlab\", port='8889', debug=False)"
   ]
  },
  {
   "cell_type": "markdown",
   "metadata": {},
   "source": [
    "Aside from `jupyterlab` which opens a new jupyter tab, other valid inputs for `mode` are `inline` and `external`"
   ]
  },
  {
   "cell_type": "code",
   "execution_count": null,
   "metadata": {},
   "outputs": [],
   "source": []
  }
 ],
 "metadata": {
  "kernelspec": {
   "display_name": "Python 3",
   "language": "python",
   "name": "python3"
  },
  "language_info": {
   "codemirror_mode": {
    "name": "ipython",
    "version": 3
   },
   "file_extension": ".py",
   "mimetype": "text/x-python",
   "name": "python",
   "nbconvert_exporter": "python",
   "pygments_lexer": "ipython3",
   "version": "3.8.5"
  }
 },
 "nbformat": 4,
 "nbformat_minor": 4
}
